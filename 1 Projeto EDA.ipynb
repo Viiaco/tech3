{
  "cells": [
    {
      "cell_type": "code",
      "execution_count": 1,
      "metadata": {},
      "outputs": [],
      "source": [
        "# Tratamento de warning\n",
        "import warnings\n",
        "warnings.filterwarnings('ignore')"
      ]
    },
    {
      "cell_type": "markdown",
      "metadata": {
        "id": "JlCIc2YooBW7"
      },
      "source": [
        "#### Análise dos dados sobre acidentes em rodovias em território nacional, disponibilizados pela Polícia Rodoviária Federal (PRF), com objetivo de:\n",
        "\n",
        ">- auxiliar o cidadão na tomada de decisão de usar uma estrada (br) em determinado mês do ano, fase do dia (manha, tarde, noite), feriado ou não, uf, condição metereológica. Dessa forma, saber quais estradas e periodo do ano precisam de especial atenção para evitar acidentes fatais.\n",
        "\n",
        ">-  nortear a decisão das autoridadess de onde investir em melhorias, recapeamento, postos policiais etc., com base na classificação, se estrada perigosa ou não (status).\n",
        "\n",
        "Base de dados disponibilizada em https://www.gov.br/prf/pt-br/acesso-a-informacao/dados-abertos/dados-abertos-acidentes."
      ]
    },
    {
      "cell_type": "markdown",
      "metadata": {
        "id": "xGFJyOm1Kdtd"
      },
      "source": [
        "### Análise Exploratória do Dado"
      ]
    },
    {
      "cell_type": "markdown",
      "metadata": {
        "id": "x5JCU-H56c4S"
      },
      "source": [
        "Além do pacote pandas, para lidar com data frames, o pacote holidays foi importado. Este pacote traz a informação das datas de feriados nacionais."
      ]
    },
    {
      "cell_type": "code",
      "execution_count": 2,
      "metadata": {},
      "outputs": [],
      "source": [
        "import firebase_admin\n",
        "from firebase_admin import credentials\n",
        "from firebase_admin import firestore\n",
        "import pandas as pd\n",
        "import numpy as np\n",
        "import holidays\n",
        "pd.set_option('display.max_columns', None)\n",
        "import seaborn as sns\n",
        "from matplotlib import pyplot as plt\n",
        "from datetime import date\n",
        "import plotly.express as px"
      ]
    },
    {
      "cell_type": "code",
      "execution_count": 2,
      "metadata": {},
      "outputs": [],
      "source": [
        "cred = credentials.Certificate(\"./key/techfase3-firebase-adminsdk-fbsvc-e71cc04b8f.json\")\n",
        "firebase_admin.initialize_app(cred)\n",
        "db = firestore.client()"
      ]
    },
    {
      "cell_type": "code",
      "execution_count": 3,
      "metadata": {},
      "outputs": [
        {
          "ename": "RetryError",
          "evalue": "Timeout of 300.0s exceeded, last exception: 429 Quota exceeded.",
          "output_type": "error",
          "traceback": [
            "\u001b[1;31m---------------------------------------------------------------------------\u001b[0m",
            "\u001b[1;31m_MultiThreadedRendezvous\u001b[0m                  Traceback (most recent call last)",
            "\u001b[1;32mc:\\Users\\vivia\\anaconda3\\lib\\site-packages\\google\\api_core\\grpc_helpers.py\u001b[0m in \u001b[0;36merror_remapped_callable\u001b[1;34m(*args, **kwargs)\u001b[0m\n\u001b[0;32m    169\u001b[0m             \u001b[0mprefetch_first\u001b[0m \u001b[1;33m=\u001b[0m \u001b[0mgetattr\u001b[0m\u001b[1;33m(\u001b[0m\u001b[0mcallable_\u001b[0m\u001b[1;33m,\u001b[0m \u001b[1;34m\"_prefetch_first_result_\"\u001b[0m\u001b[1;33m,\u001b[0m \u001b[1;32mTrue\u001b[0m\u001b[1;33m)\u001b[0m\u001b[1;33m\u001b[0m\u001b[1;33m\u001b[0m\u001b[0m\n\u001b[1;32m--> 170\u001b[1;33m             return _StreamingResponseIterator(\n\u001b[0m\u001b[0;32m    171\u001b[0m                 \u001b[0mresult\u001b[0m\u001b[1;33m,\u001b[0m \u001b[0mprefetch_first_result\u001b[0m\u001b[1;33m=\u001b[0m\u001b[0mprefetch_first\u001b[0m\u001b[1;33m\u001b[0m\u001b[1;33m\u001b[0m\u001b[0m\n",
            "\u001b[1;32mc:\\Users\\vivia\\anaconda3\\lib\\site-packages\\google\\api_core\\grpc_helpers.py\u001b[0m in \u001b[0;36m__init__\u001b[1;34m(self, wrapped, prefetch_first_result)\u001b[0m\n\u001b[0;32m     91\u001b[0m             \u001b[1;32mif\u001b[0m \u001b[0mprefetch_first_result\u001b[0m\u001b[1;33m:\u001b[0m\u001b[1;33m\u001b[0m\u001b[1;33m\u001b[0m\u001b[0m\n\u001b[1;32m---> 92\u001b[1;33m                 \u001b[0mself\u001b[0m\u001b[1;33m.\u001b[0m\u001b[0m_stored_first_result\u001b[0m \u001b[1;33m=\u001b[0m \u001b[0mnext\u001b[0m\u001b[1;33m(\u001b[0m\u001b[0mself\u001b[0m\u001b[1;33m.\u001b[0m\u001b[0m_wrapped\u001b[0m\u001b[1;33m)\u001b[0m\u001b[1;33m\u001b[0m\u001b[1;33m\u001b[0m\u001b[0m\n\u001b[0m\u001b[0;32m     93\u001b[0m         \u001b[1;32mexcept\u001b[0m \u001b[0mTypeError\u001b[0m\u001b[1;33m:\u001b[0m\u001b[1;33m\u001b[0m\u001b[1;33m\u001b[0m\u001b[0m\n",
            "\u001b[1;32mc:\\Users\\vivia\\anaconda3\\lib\\site-packages\\grpc\\_channel.py\u001b[0m in \u001b[0;36m__next__\u001b[1;34m(self)\u001b[0m\n\u001b[0;32m    542\u001b[0m     \u001b[1;32mdef\u001b[0m \u001b[0m__next__\u001b[0m\u001b[1;33m(\u001b[0m\u001b[0mself\u001b[0m\u001b[1;33m)\u001b[0m\u001b[1;33m:\u001b[0m\u001b[1;33m\u001b[0m\u001b[1;33m\u001b[0m\u001b[0m\n\u001b[1;32m--> 543\u001b[1;33m         \u001b[1;32mreturn\u001b[0m \u001b[0mself\u001b[0m\u001b[1;33m.\u001b[0m\u001b[0m_next\u001b[0m\u001b[1;33m(\u001b[0m\u001b[1;33m)\u001b[0m\u001b[1;33m\u001b[0m\u001b[1;33m\u001b[0m\u001b[0m\n\u001b[0m\u001b[0;32m    544\u001b[0m \u001b[1;33m\u001b[0m\u001b[0m\n",
            "\u001b[1;32mc:\\Users\\vivia\\anaconda3\\lib\\site-packages\\grpc\\_channel.py\u001b[0m in \u001b[0;36m_next\u001b[1;34m(self)\u001b[0m\n\u001b[0;32m    968\u001b[0m                 \u001b[1;32melif\u001b[0m \u001b[0mself\u001b[0m\u001b[1;33m.\u001b[0m\u001b[0m_state\u001b[0m\u001b[1;33m.\u001b[0m\u001b[0mcode\u001b[0m \u001b[1;32mis\u001b[0m \u001b[1;32mnot\u001b[0m \u001b[1;32mNone\u001b[0m\u001b[1;33m:\u001b[0m\u001b[1;33m\u001b[0m\u001b[1;33m\u001b[0m\u001b[0m\n\u001b[1;32m--> 969\u001b[1;33m                     \u001b[1;32mraise\u001b[0m \u001b[0mself\u001b[0m\u001b[1;33m\u001b[0m\u001b[1;33m\u001b[0m\u001b[0m\n\u001b[0m\u001b[0;32m    970\u001b[0m \u001b[1;33m\u001b[0m\u001b[0m\n",
            "\u001b[1;31m_MultiThreadedRendezvous\u001b[0m: <_MultiThreadedRendezvous of RPC that terminated with:\n\tstatus = StatusCode.RESOURCE_EXHAUSTED\n\tdetails = \"Quota exceeded.\"\n\tdebug_error_string = \"UNKNOWN:Error received from peer ipv4:172.217.30.106:443 {created_time:\"2025-05-22T19:38:49.5624986+00:00\", grpc_status:8, grpc_message:\"Quota exceeded.\"}\"\n>",
            "\nThe above exception was the direct cause of the following exception:\n",
            "\u001b[1;31mResourceExhausted\u001b[0m                         Traceback (most recent call last)",
            "\u001b[1;32mc:\\Users\\vivia\\anaconda3\\lib\\site-packages\\google\\api_core\\retry\\retry_unary.py\u001b[0m in \u001b[0;36mretry_target\u001b[1;34m(target, predicate, sleep_generator, timeout, on_error, exception_factory, **kwargs)\u001b[0m\n\u001b[0;32m    143\u001b[0m         \u001b[1;32mtry\u001b[0m\u001b[1;33m:\u001b[0m\u001b[1;33m\u001b[0m\u001b[1;33m\u001b[0m\u001b[0m\n\u001b[1;32m--> 144\u001b[1;33m             \u001b[0mresult\u001b[0m \u001b[1;33m=\u001b[0m \u001b[0mtarget\u001b[0m\u001b[1;33m(\u001b[0m\u001b[1;33m)\u001b[0m\u001b[1;33m\u001b[0m\u001b[1;33m\u001b[0m\u001b[0m\n\u001b[0m\u001b[0;32m    145\u001b[0m             \u001b[1;32mif\u001b[0m \u001b[0minspect\u001b[0m\u001b[1;33m.\u001b[0m\u001b[0misawaitable\u001b[0m\u001b[1;33m(\u001b[0m\u001b[0mresult\u001b[0m\u001b[1;33m)\u001b[0m\u001b[1;33m:\u001b[0m\u001b[1;33m\u001b[0m\u001b[1;33m\u001b[0m\u001b[0m\n",
            "\u001b[1;32mc:\\Users\\vivia\\anaconda3\\lib\\site-packages\\google\\api_core\\timeout.py\u001b[0m in \u001b[0;36mfunc_with_timeout\u001b[1;34m(*args, **kwargs)\u001b[0m\n\u001b[0;32m    129\u001b[0m \u001b[1;33m\u001b[0m\u001b[0m\n\u001b[1;32m--> 130\u001b[1;33m             \u001b[1;32mreturn\u001b[0m \u001b[0mfunc\u001b[0m\u001b[1;33m(\u001b[0m\u001b[1;33m*\u001b[0m\u001b[0margs\u001b[0m\u001b[1;33m,\u001b[0m \u001b[1;33m**\u001b[0m\u001b[0mkwargs\u001b[0m\u001b[1;33m)\u001b[0m\u001b[1;33m\u001b[0m\u001b[1;33m\u001b[0m\u001b[0m\n\u001b[0m\u001b[0;32m    131\u001b[0m \u001b[1;33m\u001b[0m\u001b[0m\n",
            "\u001b[1;32mc:\\Users\\vivia\\anaconda3\\lib\\site-packages\\google\\api_core\\grpc_helpers.py\u001b[0m in \u001b[0;36merror_remapped_callable\u001b[1;34m(*args, **kwargs)\u001b[0m\n\u001b[0;32m    173\u001b[0m         \u001b[1;32mexcept\u001b[0m \u001b[0mgrpc\u001b[0m\u001b[1;33m.\u001b[0m\u001b[0mRpcError\u001b[0m \u001b[1;32mas\u001b[0m \u001b[0mexc\u001b[0m\u001b[1;33m:\u001b[0m\u001b[1;33m\u001b[0m\u001b[1;33m\u001b[0m\u001b[0m\n\u001b[1;32m--> 174\u001b[1;33m             \u001b[1;32mraise\u001b[0m \u001b[0mexceptions\u001b[0m\u001b[1;33m.\u001b[0m\u001b[0mfrom_grpc_error\u001b[0m\u001b[1;33m(\u001b[0m\u001b[0mexc\u001b[0m\u001b[1;33m)\u001b[0m \u001b[1;32mfrom\u001b[0m \u001b[0mexc\u001b[0m\u001b[1;33m\u001b[0m\u001b[1;33m\u001b[0m\u001b[0m\n\u001b[0m\u001b[0;32m    175\u001b[0m \u001b[1;33m\u001b[0m\u001b[0m\n",
            "\u001b[1;31mResourceExhausted\u001b[0m: 429 Quota exceeded.",
            "\nThe above exception was the direct cause of the following exception:\n",
            "\u001b[1;31mRetryError\u001b[0m                                Traceback (most recent call last)",
            "\u001b[1;32m~\\AppData\\Local\\Temp\\ipykernel_8876\\2598838427.py\u001b[0m in \u001b[0;36m<module>\u001b[1;34m\u001b[0m\n\u001b[0;32m      1\u001b[0m \u001b[0mdata_ref\u001b[0m \u001b[1;33m=\u001b[0m \u001b[0mdb\u001b[0m\u001b[1;33m.\u001b[0m\u001b[0mcollection\u001b[0m\u001b[1;33m(\u001b[0m\u001b[1;34m\"datatran\"\u001b[0m\u001b[1;33m)\u001b[0m\u001b[1;33m\u001b[0m\u001b[1;33m\u001b[0m\u001b[0m\n\u001b[1;32m----> 2\u001b[1;33m \u001b[0mresults\u001b[0m \u001b[1;33m=\u001b[0m \u001b[0mdata_ref\u001b[0m \u001b[1;33m.\u001b[0m\u001b[0mget\u001b[0m\u001b[1;33m(\u001b[0m\u001b[1;33m)\u001b[0m\u001b[1;33m\u001b[0m\u001b[1;33m\u001b[0m\u001b[0m\n\u001b[0m",
            "\u001b[1;32mc:\\Users\\vivia\\anaconda3\\lib\\site-packages\\google\\cloud\\firestore_v1\\collection.py\u001b[0m in \u001b[0;36mget\u001b[1;34m(self, transaction, retry, timeout, explain_options)\u001b[0m\n\u001b[0;32m    206\u001b[0m             \u001b[0mkwargs\u001b[0m\u001b[1;33m[\u001b[0m\u001b[1;34m\"explain_options\"\u001b[0m\u001b[1;33m]\u001b[0m \u001b[1;33m=\u001b[0m \u001b[0mexplain_options\u001b[0m\u001b[1;33m\u001b[0m\u001b[1;33m\u001b[0m\u001b[0m\n\u001b[0;32m    207\u001b[0m \u001b[1;33m\u001b[0m\u001b[0m\n\u001b[1;32m--> 208\u001b[1;33m         \u001b[1;32mreturn\u001b[0m \u001b[0mquery\u001b[0m\u001b[1;33m.\u001b[0m\u001b[0mget\u001b[0m\u001b[1;33m(\u001b[0m\u001b[0mtransaction\u001b[0m\u001b[1;33m=\u001b[0m\u001b[0mtransaction\u001b[0m\u001b[1;33m,\u001b[0m \u001b[1;33m**\u001b[0m\u001b[0mkwargs\u001b[0m\u001b[1;33m)\u001b[0m\u001b[1;33m\u001b[0m\u001b[1;33m\u001b[0m\u001b[0m\n\u001b[0m\u001b[0;32m    209\u001b[0m \u001b[1;33m\u001b[0m\u001b[0m\n\u001b[0;32m    210\u001b[0m     def stream(\n",
            "\u001b[1;32mc:\\Users\\vivia\\anaconda3\\lib\\site-packages\\google\\cloud\\firestore_v1\\query.py\u001b[0m in \u001b[0;36mget\u001b[1;34m(self, transaction, retry, timeout, explain_options)\u001b[0m\n\u001b[0;32m    190\u001b[0m             \u001b[0mexplain_options\u001b[0m\u001b[1;33m=\u001b[0m\u001b[0mexplain_options\u001b[0m\u001b[1;33m,\u001b[0m\u001b[1;33m\u001b[0m\u001b[1;33m\u001b[0m\u001b[0m\n\u001b[0;32m    191\u001b[0m         )\n\u001b[1;32m--> 192\u001b[1;33m         \u001b[0mresult_list\u001b[0m \u001b[1;33m=\u001b[0m \u001b[0mlist\u001b[0m\u001b[1;33m(\u001b[0m\u001b[0mresult\u001b[0m\u001b[1;33m)\u001b[0m\u001b[1;33m\u001b[0m\u001b[1;33m\u001b[0m\u001b[0m\n\u001b[0m\u001b[0;32m    193\u001b[0m         \u001b[1;32mif\u001b[0m \u001b[0mis_limited_to_last\u001b[0m\u001b[1;33m:\u001b[0m\u001b[1;33m\u001b[0m\u001b[1;33m\u001b[0m\u001b[0m\n\u001b[0;32m    194\u001b[0m             \u001b[0mresult_list\u001b[0m \u001b[1;33m=\u001b[0m \u001b[0mlist\u001b[0m\u001b[1;33m(\u001b[0m\u001b[0mreversed\u001b[0m\u001b[1;33m(\u001b[0m\u001b[0mresult_list\u001b[0m\u001b[1;33m)\u001b[0m\u001b[1;33m)\u001b[0m\u001b[1;33m\u001b[0m\u001b[1;33m\u001b[0m\u001b[0m\n",
            "\u001b[1;32mc:\\Users\\vivia\\anaconda3\\lib\\site-packages\\google\\cloud\\firestore_v1\\stream_generator.py\u001b[0m in \u001b[0;36m__next__\u001b[1;34m(self)\u001b[0m\n\u001b[0;32m     56\u001b[0m     \u001b[1;32mdef\u001b[0m \u001b[0m__next__\u001b[0m\u001b[1;33m(\u001b[0m\u001b[0mself\u001b[0m\u001b[1;33m)\u001b[0m \u001b[1;33m->\u001b[0m \u001b[0mT\u001b[0m\u001b[1;33m:\u001b[0m\u001b[1;33m\u001b[0m\u001b[1;33m\u001b[0m\u001b[0m\n\u001b[0;32m     57\u001b[0m         \u001b[1;32mtry\u001b[0m\u001b[1;33m:\u001b[0m\u001b[1;33m\u001b[0m\u001b[1;33m\u001b[0m\u001b[0m\n\u001b[1;32m---> 58\u001b[1;33m             \u001b[1;32mreturn\u001b[0m \u001b[0mself\u001b[0m\u001b[1;33m.\u001b[0m\u001b[0m_generator\u001b[0m\u001b[1;33m.\u001b[0m\u001b[0m__next__\u001b[0m\u001b[1;33m(\u001b[0m\u001b[1;33m)\u001b[0m\u001b[1;33m\u001b[0m\u001b[1;33m\u001b[0m\u001b[0m\n\u001b[0m\u001b[0;32m     59\u001b[0m         \u001b[1;32mexcept\u001b[0m \u001b[0mStopIteration\u001b[0m \u001b[1;32mas\u001b[0m \u001b[0me\u001b[0m\u001b[1;33m:\u001b[0m\u001b[1;33m\u001b[0m\u001b[1;33m\u001b[0m\u001b[0m\n\u001b[0;32m     60\u001b[0m             \u001b[1;31m# If explain_metrics is available, it would be returned.\u001b[0m\u001b[1;33m\u001b[0m\u001b[1;33m\u001b[0m\u001b[0m\n",
            "\u001b[1;32mc:\\Users\\vivia\\anaconda3\\lib\\site-packages\\google\\cloud\\firestore_v1\\query.py\u001b[0m in \u001b[0;36m_make_stream\u001b[1;34m(self, transaction, retry, timeout, explain_options)\u001b[0m\n\u001b[0;32m    398\u001b[0m         \u001b[0mmetrics\u001b[0m\u001b[1;33m:\u001b[0m \u001b[0mExplainMetrics\u001b[0m \u001b[1;33m|\u001b[0m \u001b[1;32mNone\u001b[0m \u001b[1;33m=\u001b[0m \u001b[1;32mNone\u001b[0m\u001b[1;33m\u001b[0m\u001b[1;33m\u001b[0m\u001b[0m\n\u001b[0;32m    399\u001b[0m \u001b[1;33m\u001b[0m\u001b[0m\n\u001b[1;32m--> 400\u001b[1;33m         response_iterator, expected_prefix = self._get_stream_iterator(\n\u001b[0m\u001b[0;32m    401\u001b[0m             \u001b[0mtransaction\u001b[0m\u001b[1;33m,\u001b[0m\u001b[1;33m\u001b[0m\u001b[1;33m\u001b[0m\u001b[0m\n\u001b[0;32m    402\u001b[0m             \u001b[0mretry\u001b[0m\u001b[1;33m,\u001b[0m\u001b[1;33m\u001b[0m\u001b[1;33m\u001b[0m\u001b[0m\n",
            "\u001b[1;32mc:\\Users\\vivia\\anaconda3\\lib\\site-packages\\google\\cloud\\firestore_v1\\query.py\u001b[0m in \u001b[0;36m_get_stream_iterator\u001b[1;34m(self, transaction, retry, timeout, explain_options)\u001b[0m\n\u001b[0;32m    248\u001b[0m         )\n\u001b[0;32m    249\u001b[0m \u001b[1;33m\u001b[0m\u001b[0m\n\u001b[1;32m--> 250\u001b[1;33m         response_iterator = self._client._firestore_api.run_query(\n\u001b[0m\u001b[0;32m    251\u001b[0m             \u001b[0mrequest\u001b[0m\u001b[1;33m=\u001b[0m\u001b[0mrequest\u001b[0m\u001b[1;33m,\u001b[0m\u001b[1;33m\u001b[0m\u001b[1;33m\u001b[0m\u001b[0m\n\u001b[0;32m    252\u001b[0m             \u001b[0mmetadata\u001b[0m\u001b[1;33m=\u001b[0m\u001b[0mself\u001b[0m\u001b[1;33m.\u001b[0m\u001b[0m_client\u001b[0m\u001b[1;33m.\u001b[0m\u001b[0m_rpc_metadata\u001b[0m\u001b[1;33m,\u001b[0m\u001b[1;33m\u001b[0m\u001b[1;33m\u001b[0m\u001b[0m\n",
            "\u001b[1;32mc:\\Users\\vivia\\anaconda3\\lib\\site-packages\\google\\cloud\\firestore_v1\\services\\firestore\\client.py\u001b[0m in \u001b[0;36mrun_query\u001b[1;34m(self, request, retry, timeout, metadata)\u001b[0m\n\u001b[0;32m   1621\u001b[0m \u001b[1;33m\u001b[0m\u001b[0m\n\u001b[0;32m   1622\u001b[0m         \u001b[1;31m# Send the request.\u001b[0m\u001b[1;33m\u001b[0m\u001b[1;33m\u001b[0m\u001b[0m\n\u001b[1;32m-> 1623\u001b[1;33m         response = rpc(\n\u001b[0m\u001b[0;32m   1624\u001b[0m             \u001b[0mrequest\u001b[0m\u001b[1;33m,\u001b[0m\u001b[1;33m\u001b[0m\u001b[1;33m\u001b[0m\u001b[0m\n\u001b[0;32m   1625\u001b[0m             \u001b[0mretry\u001b[0m\u001b[1;33m=\u001b[0m\u001b[0mretry\u001b[0m\u001b[1;33m,\u001b[0m\u001b[1;33m\u001b[0m\u001b[1;33m\u001b[0m\u001b[0m\n",
            "\u001b[1;32mc:\\Users\\vivia\\anaconda3\\lib\\site-packages\\google\\api_core\\gapic_v1\\method.py\u001b[0m in \u001b[0;36m__call__\u001b[1;34m(self, timeout, retry, compression, *args, **kwargs)\u001b[0m\n\u001b[0;32m    129\u001b[0m             \u001b[0mkwargs\u001b[0m\u001b[1;33m[\u001b[0m\u001b[1;34m\"compression\"\u001b[0m\u001b[1;33m]\u001b[0m \u001b[1;33m=\u001b[0m \u001b[0mcompression\u001b[0m\u001b[1;33m\u001b[0m\u001b[1;33m\u001b[0m\u001b[0m\n\u001b[0;32m    130\u001b[0m \u001b[1;33m\u001b[0m\u001b[0m\n\u001b[1;32m--> 131\u001b[1;33m         \u001b[1;32mreturn\u001b[0m \u001b[0mwrapped_func\u001b[0m\u001b[1;33m(\u001b[0m\u001b[1;33m*\u001b[0m\u001b[0margs\u001b[0m\u001b[1;33m,\u001b[0m \u001b[1;33m**\u001b[0m\u001b[0mkwargs\u001b[0m\u001b[1;33m)\u001b[0m\u001b[1;33m\u001b[0m\u001b[1;33m\u001b[0m\u001b[0m\n\u001b[0m\u001b[0;32m    132\u001b[0m \u001b[1;33m\u001b[0m\u001b[0m\n\u001b[0;32m    133\u001b[0m \u001b[1;33m\u001b[0m\u001b[0m\n",
            "\u001b[1;32mc:\\Users\\vivia\\anaconda3\\lib\\site-packages\\google\\api_core\\retry\\retry_unary.py\u001b[0m in \u001b[0;36mretry_wrapped_func\u001b[1;34m(*args, **kwargs)\u001b[0m\n\u001b[0;32m    291\u001b[0m                 \u001b[0mself\u001b[0m\u001b[1;33m.\u001b[0m\u001b[0m_initial\u001b[0m\u001b[1;33m,\u001b[0m \u001b[0mself\u001b[0m\u001b[1;33m.\u001b[0m\u001b[0m_maximum\u001b[0m\u001b[1;33m,\u001b[0m \u001b[0mmultiplier\u001b[0m\u001b[1;33m=\u001b[0m\u001b[0mself\u001b[0m\u001b[1;33m.\u001b[0m\u001b[0m_multiplier\u001b[0m\u001b[1;33m\u001b[0m\u001b[1;33m\u001b[0m\u001b[0m\n\u001b[0;32m    292\u001b[0m             )\n\u001b[1;32m--> 293\u001b[1;33m             return retry_target(\n\u001b[0m\u001b[0;32m    294\u001b[0m                 \u001b[0mtarget\u001b[0m\u001b[1;33m,\u001b[0m\u001b[1;33m\u001b[0m\u001b[1;33m\u001b[0m\u001b[0m\n\u001b[0;32m    295\u001b[0m                 \u001b[0mself\u001b[0m\u001b[1;33m.\u001b[0m\u001b[0m_predicate\u001b[0m\u001b[1;33m,\u001b[0m\u001b[1;33m\u001b[0m\u001b[1;33m\u001b[0m\u001b[0m\n",
            "\u001b[1;32mc:\\Users\\vivia\\anaconda3\\lib\\site-packages\\google\\api_core\\retry\\retry_unary.py\u001b[0m in \u001b[0;36mretry_target\u001b[1;34m(target, predicate, sleep_generator, timeout, on_error, exception_factory, **kwargs)\u001b[0m\n\u001b[0;32m    151\u001b[0m         \u001b[1;32mexcept\u001b[0m \u001b[0mException\u001b[0m \u001b[1;32mas\u001b[0m \u001b[0mexc\u001b[0m\u001b[1;33m:\u001b[0m\u001b[1;33m\u001b[0m\u001b[1;33m\u001b[0m\u001b[0m\n\u001b[0;32m    152\u001b[0m             \u001b[1;31m# defer to shared logic for handling errors\u001b[0m\u001b[1;33m\u001b[0m\u001b[1;33m\u001b[0m\u001b[0m\n\u001b[1;32m--> 153\u001b[1;33m             _retry_error_helper(\n\u001b[0m\u001b[0;32m    154\u001b[0m                 \u001b[0mexc\u001b[0m\u001b[1;33m,\u001b[0m\u001b[1;33m\u001b[0m\u001b[1;33m\u001b[0m\u001b[0m\n\u001b[0;32m    155\u001b[0m                 \u001b[0mdeadline\u001b[0m\u001b[1;33m,\u001b[0m\u001b[1;33m\u001b[0m\u001b[1;33m\u001b[0m\u001b[0m\n",
            "\u001b[1;32mc:\\Users\\vivia\\anaconda3\\lib\\site-packages\\google\\api_core\\retry\\retry_base.py\u001b[0m in \u001b[0;36m_retry_error_helper\u001b[1;34m(exc, deadline, next_sleep, error_list, predicate_fn, on_error_fn, exc_factory_fn, original_timeout)\u001b[0m\n\u001b[0;32m    219\u001b[0m             \u001b[0moriginal_timeout\u001b[0m\u001b[1;33m,\u001b[0m\u001b[1;33m\u001b[0m\u001b[1;33m\u001b[0m\u001b[0m\n\u001b[0;32m    220\u001b[0m         )\n\u001b[1;32m--> 221\u001b[1;33m         \u001b[1;32mraise\u001b[0m \u001b[0mfinal_exc\u001b[0m \u001b[1;32mfrom\u001b[0m \u001b[0msource_exc\u001b[0m\u001b[1;33m\u001b[0m\u001b[1;33m\u001b[0m\u001b[0m\n\u001b[0m\u001b[0;32m    222\u001b[0m     _LOGGER.debug(\n\u001b[0;32m    223\u001b[0m         \u001b[1;34m\"Retrying due to {}, sleeping {:.1f}s ...\"\u001b[0m\u001b[1;33m.\u001b[0m\u001b[0mformat\u001b[0m\u001b[1;33m(\u001b[0m\u001b[0merror_list\u001b[0m\u001b[1;33m[\u001b[0m\u001b[1;33m-\u001b[0m\u001b[1;36m1\u001b[0m\u001b[1;33m]\u001b[0m\u001b[1;33m,\u001b[0m \u001b[0mnext_sleep\u001b[0m\u001b[1;33m)\u001b[0m\u001b[1;33m\u001b[0m\u001b[1;33m\u001b[0m\u001b[0m\n",
            "\u001b[1;31mRetryError\u001b[0m: Timeout of 300.0s exceeded, last exception: 429 Quota exceeded."
          ]
        }
      ],
      "source": [
        "data_ref = db.collection(\"datatran\")\n",
        "results = data_ref .get()"
      ]
    },
    {
      "cell_type": "code",
      "execution_count": 4,
      "metadata": {},
      "outputs": [
        {
          "ename": "NameError",
          "evalue": "name 'results' is not defined",
          "output_type": "error",
          "traceback": [
            "\u001b[1;31m---------------------------------------------------------------------------\u001b[0m",
            "\u001b[1;31mNameError\u001b[0m                                 Traceback (most recent call last)",
            "\u001b[1;32m~\\AppData\\Local\\Temp\\ipykernel_8876\\2306308978.py\u001b[0m in \u001b[0;36m<module>\u001b[1;34m\u001b[0m\n\u001b[1;32m----> 1\u001b[1;33m \u001b[0mdata\u001b[0m \u001b[1;33m=\u001b[0m \u001b[1;33m[\u001b[0m\u001b[0mdoc\u001b[0m\u001b[1;33m.\u001b[0m\u001b[0mto_dict\u001b[0m\u001b[1;33m(\u001b[0m\u001b[1;33m)\u001b[0m \u001b[1;32mfor\u001b[0m \u001b[0mdoc\u001b[0m \u001b[1;32min\u001b[0m \u001b[0mresults\u001b[0m\u001b[1;33m]\u001b[0m\u001b[1;33m\u001b[0m\u001b[1;33m\u001b[0m\u001b[0m\n\u001b[0m\u001b[0;32m      2\u001b[0m \u001b[0mdf\u001b[0m \u001b[1;33m=\u001b[0m \u001b[0mpd\u001b[0m\u001b[1;33m.\u001b[0m\u001b[0mDataFrame\u001b[0m\u001b[1;33m(\u001b[0m\u001b[0mdata\u001b[0m\u001b[1;33m)\u001b[0m\u001b[1;33m\u001b[0m\u001b[1;33m\u001b[0m\u001b[0m\n",
            "\u001b[1;31mNameError\u001b[0m: name 'results' is not defined"
          ]
        }
      ],
      "source": [
        "data = [doc.to_dict() for doc in results]  \n",
        "df = pd.DataFrame(data)"
      ]
    },
    {
      "cell_type": "code",
      "execution_count": 3,
      "metadata": {},
      "outputs": [],
      "source": [
        "import glob\n",
        "\n",
        "# Encontrar todos os arquivos CSV na pasta \"dados\"\n",
        "arquivos = glob.glob('./dados/*.csv')\n",
        "\n",
        "df = pd.concat([pd.read_csv(arquivo, encoding='latin1', delimiter=';') for arquivo in arquivos], ignore_index=True)"
      ]
    },
    {
      "cell_type": "code",
      "execution_count": 6,
      "metadata": {},
      "outputs": [
        {
          "data": {
            "text/html": [
              "<div>\n",
              "<style scoped>\n",
              "    .dataframe tbody tr th:only-of-type {\n",
              "        vertical-align: middle;\n",
              "    }\n",
              "\n",
              "    .dataframe tbody tr th {\n",
              "        vertical-align: top;\n",
              "    }\n",
              "\n",
              "    .dataframe thead th {\n",
              "        text-align: right;\n",
              "    }\n",
              "</style>\n",
              "<table border=\"1\" class=\"dataframe\">\n",
              "  <thead>\n",
              "    <tr style=\"text-align: right;\">\n",
              "      <th></th>\n",
              "      <th>id</th>\n",
              "      <th>data_inversa</th>\n",
              "      <th>dia_semana</th>\n",
              "      <th>horario</th>\n",
              "      <th>uf</th>\n",
              "      <th>br</th>\n",
              "      <th>km</th>\n",
              "      <th>municipio</th>\n",
              "      <th>causa_acidente</th>\n",
              "      <th>tipo_acidente</th>\n",
              "      <th>classificacao_acidente</th>\n",
              "      <th>fase_dia</th>\n",
              "      <th>sentido_via</th>\n",
              "      <th>condicao_metereologica</th>\n",
              "      <th>tipo_pista</th>\n",
              "      <th>tracado_via</th>\n",
              "      <th>uso_solo</th>\n",
              "      <th>pessoas</th>\n",
              "      <th>mortos</th>\n",
              "      <th>feridos_leves</th>\n",
              "      <th>feridos_graves</th>\n",
              "      <th>ilesos</th>\n",
              "      <th>ignorados</th>\n",
              "      <th>feridos</th>\n",
              "      <th>veiculos</th>\n",
              "      <th>latitude</th>\n",
              "      <th>longitude</th>\n",
              "      <th>regional</th>\n",
              "      <th>delegacia</th>\n",
              "      <th>uop</th>\n",
              "    </tr>\n",
              "  </thead>\n",
              "  <tbody>\n",
              "    <tr>\n",
              "      <th>0</th>\n",
              "      <td>496519.0</td>\n",
              "      <td>2023-01-01</td>\n",
              "      <td>domingo</td>\n",
              "      <td>02:00:00</td>\n",
              "      <td>ES</td>\n",
              "      <td>101</td>\n",
              "      <td>114</td>\n",
              "      <td>SOORETAMA</td>\n",
              "      <td>Ausência de reação do condutor</td>\n",
              "      <td>Saída de leito carroçável</td>\n",
              "      <td>Com Vítimas Feridas</td>\n",
              "      <td>Plena Noite</td>\n",
              "      <td>Crescente</td>\n",
              "      <td>Céu Claro</td>\n",
              "      <td>Simples</td>\n",
              "      <td>Reta</td>\n",
              "      <td>Não</td>\n",
              "      <td>1</td>\n",
              "      <td>0</td>\n",
              "      <td>1</td>\n",
              "      <td>0</td>\n",
              "      <td>0</td>\n",
              "      <td>0</td>\n",
              "      <td>1</td>\n",
              "      <td>1</td>\n",
              "      <td>-19,09484877</td>\n",
              "      <td>-40,05095848</td>\n",
              "      <td>SPRF-ES</td>\n",
              "      <td>DEL04-ES</td>\n",
              "      <td>UOP01-DEL04-ES</td>\n",
              "    </tr>\n",
              "    <tr>\n",
              "      <th>1</th>\n",
              "      <td>496543.0</td>\n",
              "      <td>2023-01-01</td>\n",
              "      <td>domingo</td>\n",
              "      <td>03:40:00</td>\n",
              "      <td>SP</td>\n",
              "      <td>116</td>\n",
              "      <td>113,1</td>\n",
              "      <td>TAUBATE</td>\n",
              "      <td>Entrada inopinada do pedestre</td>\n",
              "      <td>Atropelamento de Pedestre</td>\n",
              "      <td>Com Vítimas Fatais</td>\n",
              "      <td>Plena Noite</td>\n",
              "      <td>Decrescente</td>\n",
              "      <td>Céu Claro</td>\n",
              "      <td>Dupla</td>\n",
              "      <td>Reta</td>\n",
              "      <td>Sim</td>\n",
              "      <td>5</td>\n",
              "      <td>1</td>\n",
              "      <td>0</td>\n",
              "      <td>0</td>\n",
              "      <td>0</td>\n",
              "      <td>4</td>\n",
              "      <td>0</td>\n",
              "      <td>2</td>\n",
              "      <td>-23,0445658</td>\n",
              "      <td>-45,58259814</td>\n",
              "      <td>SPRF-SP</td>\n",
              "      <td>DEL02-SP</td>\n",
              "      <td>UOP02-DEL02-SP</td>\n",
              "    </tr>\n",
              "    <tr>\n",
              "      <th>2</th>\n",
              "      <td>496590.0</td>\n",
              "      <td>2023-01-01</td>\n",
              "      <td>domingo</td>\n",
              "      <td>01:40:00</td>\n",
              "      <td>MT</td>\n",
              "      <td>163</td>\n",
              "      <td>1112</td>\n",
              "      <td>GUARANTA DO NORTE</td>\n",
              "      <td>Reação tardia ou ineficiente do condutor</td>\n",
              "      <td>Tombamento</td>\n",
              "      <td>NaN</td>\n",
              "      <td>Plena Noite</td>\n",
              "      <td>Crescente</td>\n",
              "      <td>Ignorado</td>\n",
              "      <td>Simples</td>\n",
              "      <td>Curva;Declive</td>\n",
              "      <td>Não</td>\n",
              "      <td>2</td>\n",
              "      <td>0</td>\n",
              "      <td>0</td>\n",
              "      <td>1</td>\n",
              "      <td>0</td>\n",
              "      <td>2</td>\n",
              "      <td>1</td>\n",
              "      <td>3</td>\n",
              "      <td>-9,70020602</td>\n",
              "      <td>-54,87588757</td>\n",
              "      <td>SPRF-MT</td>\n",
              "      <td>DEL06-MT</td>\n",
              "      <td>UOP03-DEL06-MT</td>\n",
              "    </tr>\n",
              "    <tr>\n",
              "      <th>3</th>\n",
              "      <td>496610.0</td>\n",
              "      <td>2023-01-01</td>\n",
              "      <td>domingo</td>\n",
              "      <td>10:40:00</td>\n",
              "      <td>PR</td>\n",
              "      <td>376</td>\n",
              "      <td>314,8</td>\n",
              "      <td>ORTIGUEIRA</td>\n",
              "      <td>Velocidade Incompatível</td>\n",
              "      <td>Tombamento</td>\n",
              "      <td>Sem Vítimas</td>\n",
              "      <td>Pleno dia</td>\n",
              "      <td>Crescente</td>\n",
              "      <td>Sol</td>\n",
              "      <td>Dupla</td>\n",
              "      <td>Curva</td>\n",
              "      <td>Não</td>\n",
              "      <td>2</td>\n",
              "      <td>0</td>\n",
              "      <td>0</td>\n",
              "      <td>0</td>\n",
              "      <td>1</td>\n",
              "      <td>2</td>\n",
              "      <td>0</td>\n",
              "      <td>3</td>\n",
              "      <td>-23,985512</td>\n",
              "      <td>-51,083555</td>\n",
              "      <td>SPRF-PR</td>\n",
              "      <td>DEL07-PR</td>\n",
              "      <td>UOP02-DEL07-PR</td>\n",
              "    </tr>\n",
              "    <tr>\n",
              "      <th>4</th>\n",
              "      <td>496659.0</td>\n",
              "      <td>2023-01-01</td>\n",
              "      <td>domingo</td>\n",
              "      <td>14:55:00</td>\n",
              "      <td>MG</td>\n",
              "      <td>116</td>\n",
              "      <td>569,4</td>\n",
              "      <td>MANHUACU</td>\n",
              "      <td>Acumulo de água sobre o pavimento</td>\n",
              "      <td>Colisão frontal</td>\n",
              "      <td>Com Vítimas Feridas</td>\n",
              "      <td>Pleno dia</td>\n",
              "      <td>Decrescente</td>\n",
              "      <td>Chuva</td>\n",
              "      <td>Simples</td>\n",
              "      <td>Declive;Curva</td>\n",
              "      <td>Não</td>\n",
              "      <td>4</td>\n",
              "      <td>0</td>\n",
              "      <td>0</td>\n",
              "      <td>2</td>\n",
              "      <td>1</td>\n",
              "      <td>1</td>\n",
              "      <td>2</td>\n",
              "      <td>3</td>\n",
              "      <td>-20,10007457</td>\n",
              "      <td>-42,17884091</td>\n",
              "      <td>SPRF-MG</td>\n",
              "      <td>DEL06-MG</td>\n",
              "      <td>UOP03-DEL06-MG</td>\n",
              "    </tr>\n",
              "  </tbody>\n",
              "</table>\n",
              "</div>"
            ],
            "text/plain": [
              "         id data_inversa dia_semana   horario  uf   br     km  \\\n",
              "0  496519.0   2023-01-01    domingo  02:00:00  ES  101    114   \n",
              "1  496543.0   2023-01-01    domingo  03:40:00  SP  116  113,1   \n",
              "2  496590.0   2023-01-01    domingo  01:40:00  MT  163   1112   \n",
              "3  496610.0   2023-01-01    domingo  10:40:00  PR  376  314,8   \n",
              "4  496659.0   2023-01-01    domingo  14:55:00  MG  116  569,4   \n",
              "\n",
              "           municipio                            causa_acidente  \\\n",
              "0          SOORETAMA            Ausência de reação do condutor   \n",
              "1            TAUBATE             Entrada inopinada do pedestre   \n",
              "2  GUARANTA DO NORTE  Reação tardia ou ineficiente do condutor   \n",
              "3         ORTIGUEIRA                   Velocidade Incompatível   \n",
              "4           MANHUACU         Acumulo de água sobre o pavimento   \n",
              "\n",
              "               tipo_acidente classificacao_acidente     fase_dia  sentido_via  \\\n",
              "0  Saída de leito carroçável    Com Vítimas Feridas  Plena Noite    Crescente   \n",
              "1  Atropelamento de Pedestre     Com Vítimas Fatais  Plena Noite  Decrescente   \n",
              "2                 Tombamento                    NaN  Plena Noite    Crescente   \n",
              "3                 Tombamento            Sem Vítimas    Pleno dia    Crescente   \n",
              "4            Colisão frontal    Com Vítimas Feridas    Pleno dia  Decrescente   \n",
              "\n",
              "  condicao_metereologica tipo_pista    tracado_via uso_solo  pessoas  mortos  \\\n",
              "0              Céu Claro    Simples           Reta      Não        1       0   \n",
              "1              Céu Claro      Dupla           Reta      Sim        5       1   \n",
              "2               Ignorado    Simples  Curva;Declive      Não        2       0   \n",
              "3                    Sol      Dupla          Curva      Não        2       0   \n",
              "4                  Chuva    Simples  Declive;Curva      Não        4       0   \n",
              "\n",
              "   feridos_leves  feridos_graves  ilesos  ignorados  feridos  veiculos  \\\n",
              "0              1               0       0          0        1         1   \n",
              "1              0               0       0          4        0         2   \n",
              "2              0               1       0          2        1         3   \n",
              "3              0               0       1          2        0         3   \n",
              "4              0               2       1          1        2         3   \n",
              "\n",
              "       latitude     longitude regional delegacia             uop  \n",
              "0  -19,09484877  -40,05095848  SPRF-ES  DEL04-ES  UOP01-DEL04-ES  \n",
              "1   -23,0445658  -45,58259814  SPRF-SP  DEL02-SP  UOP02-DEL02-SP  \n",
              "2   -9,70020602  -54,87588757  SPRF-MT  DEL06-MT  UOP03-DEL06-MT  \n",
              "3    -23,985512    -51,083555  SPRF-PR  DEL07-PR  UOP02-DEL07-PR  \n",
              "4  -20,10007457  -42,17884091  SPRF-MG  DEL06-MG  UOP03-DEL06-MG  "
            ]
          },
          "execution_count": 6,
          "metadata": {},
          "output_type": "execute_result"
        }
      ],
      "source": [
        "df.head()"
      ]
    },
    {
      "cell_type": "code",
      "execution_count": 4,
      "metadata": {},
      "outputs": [],
      "source": [
        "df['data_inversa'] = df['data_inversa'].str.strip()\n",
        "df['data_inversa'] = pd.to_datetime(df['data_inversa'], format='%Y-%m-%d', errors='coerce')\n",
        "df['ano'] = pd.to_datetime(df['data_inversa'], errors='coerce').dt.year\n",
        "df['mes'] = pd.to_datetime(df['data_inversa'], errors='coerce').dt.month"
      ]
    },
    {
      "cell_type": "code",
      "execution_count": 5,
      "metadata": {},
      "outputs": [],
      "source": [
        "#df['ano'] = pd.to_numeric(df['ano'], errors='coerce').astype('Int64')\n",
        "df['mortos'] = pd.to_numeric(df['mortos'], errors='coerce').astype('Int64')\n",
        "df['feridos_graves'] = pd.to_numeric(df['feridos_graves'], errors='coerce').astype('Int64')\n",
        "df['veiculos'] = pd.to_numeric(df['veiculos'], errors='coerce').astype('Int64')"
      ]
    },
    {
      "cell_type": "code",
      "execution_count": 9,
      "metadata": {},
      "outputs": [
        {
          "data": {
            "text/html": [
              "<div>\n",
              "<style scoped>\n",
              "    .dataframe tbody tr th:only-of-type {\n",
              "        vertical-align: middle;\n",
              "    }\n",
              "\n",
              "    .dataframe tbody tr th {\n",
              "        vertical-align: top;\n",
              "    }\n",
              "\n",
              "    .dataframe thead th {\n",
              "        text-align: right;\n",
              "    }\n",
              "</style>\n",
              "<table border=\"1\" class=\"dataframe\">\n",
              "  <thead>\n",
              "    <tr style=\"text-align: right;\">\n",
              "      <th></th>\n",
              "      <th>id</th>\n",
              "      <th>data_inversa</th>\n",
              "      <th>dia_semana</th>\n",
              "      <th>horario</th>\n",
              "      <th>uf</th>\n",
              "      <th>br</th>\n",
              "      <th>km</th>\n",
              "      <th>municipio</th>\n",
              "      <th>causa_acidente</th>\n",
              "      <th>tipo_acidente</th>\n",
              "      <th>classificacao_acidente</th>\n",
              "      <th>fase_dia</th>\n",
              "      <th>sentido_via</th>\n",
              "      <th>condicao_metereologica</th>\n",
              "      <th>tipo_pista</th>\n",
              "      <th>tracado_via</th>\n",
              "      <th>uso_solo</th>\n",
              "      <th>pessoas</th>\n",
              "      <th>mortos</th>\n",
              "      <th>feridos_leves</th>\n",
              "      <th>feridos_graves</th>\n",
              "      <th>ilesos</th>\n",
              "      <th>ignorados</th>\n",
              "      <th>feridos</th>\n",
              "      <th>veiculos</th>\n",
              "      <th>latitude</th>\n",
              "      <th>longitude</th>\n",
              "      <th>regional</th>\n",
              "      <th>delegacia</th>\n",
              "      <th>uop</th>\n",
              "      <th>ano</th>\n",
              "      <th>mes</th>\n",
              "    </tr>\n",
              "  </thead>\n",
              "  <tbody>\n",
              "    <tr>\n",
              "      <th>0</th>\n",
              "      <td>496519.0</td>\n",
              "      <td>2023-01-01</td>\n",
              "      <td>domingo</td>\n",
              "      <td>02:00:00</td>\n",
              "      <td>ES</td>\n",
              "      <td>101</td>\n",
              "      <td>114</td>\n",
              "      <td>SOORETAMA</td>\n",
              "      <td>Ausência de reação do condutor</td>\n",
              "      <td>Saída de leito carroçável</td>\n",
              "      <td>Com Vítimas Feridas</td>\n",
              "      <td>Plena Noite</td>\n",
              "      <td>Crescente</td>\n",
              "      <td>Céu Claro</td>\n",
              "      <td>Simples</td>\n",
              "      <td>Reta</td>\n",
              "      <td>Não</td>\n",
              "      <td>1</td>\n",
              "      <td>0</td>\n",
              "      <td>1</td>\n",
              "      <td>0</td>\n",
              "      <td>0</td>\n",
              "      <td>0</td>\n",
              "      <td>1</td>\n",
              "      <td>1</td>\n",
              "      <td>-19,09484877</td>\n",
              "      <td>-40,05095848</td>\n",
              "      <td>SPRF-ES</td>\n",
              "      <td>DEL04-ES</td>\n",
              "      <td>UOP01-DEL04-ES</td>\n",
              "      <td>2023</td>\n",
              "      <td>1</td>\n",
              "    </tr>\n",
              "    <tr>\n",
              "      <th>1</th>\n",
              "      <td>496543.0</td>\n",
              "      <td>2023-01-01</td>\n",
              "      <td>domingo</td>\n",
              "      <td>03:40:00</td>\n",
              "      <td>SP</td>\n",
              "      <td>116</td>\n",
              "      <td>113,1</td>\n",
              "      <td>TAUBATE</td>\n",
              "      <td>Entrada inopinada do pedestre</td>\n",
              "      <td>Atropelamento de Pedestre</td>\n",
              "      <td>Com Vítimas Fatais</td>\n",
              "      <td>Plena Noite</td>\n",
              "      <td>Decrescente</td>\n",
              "      <td>Céu Claro</td>\n",
              "      <td>Dupla</td>\n",
              "      <td>Reta</td>\n",
              "      <td>Sim</td>\n",
              "      <td>5</td>\n",
              "      <td>1</td>\n",
              "      <td>0</td>\n",
              "      <td>0</td>\n",
              "      <td>0</td>\n",
              "      <td>4</td>\n",
              "      <td>0</td>\n",
              "      <td>2</td>\n",
              "      <td>-23,0445658</td>\n",
              "      <td>-45,58259814</td>\n",
              "      <td>SPRF-SP</td>\n",
              "      <td>DEL02-SP</td>\n",
              "      <td>UOP02-DEL02-SP</td>\n",
              "      <td>2023</td>\n",
              "      <td>1</td>\n",
              "    </tr>\n",
              "    <tr>\n",
              "      <th>2</th>\n",
              "      <td>496590.0</td>\n",
              "      <td>2023-01-01</td>\n",
              "      <td>domingo</td>\n",
              "      <td>01:40:00</td>\n",
              "      <td>MT</td>\n",
              "      <td>163</td>\n",
              "      <td>1112</td>\n",
              "      <td>GUARANTA DO NORTE</td>\n",
              "      <td>Reação tardia ou ineficiente do condutor</td>\n",
              "      <td>Tombamento</td>\n",
              "      <td>NaN</td>\n",
              "      <td>Plena Noite</td>\n",
              "      <td>Crescente</td>\n",
              "      <td>Ignorado</td>\n",
              "      <td>Simples</td>\n",
              "      <td>Curva;Declive</td>\n",
              "      <td>Não</td>\n",
              "      <td>2</td>\n",
              "      <td>0</td>\n",
              "      <td>0</td>\n",
              "      <td>1</td>\n",
              "      <td>0</td>\n",
              "      <td>2</td>\n",
              "      <td>1</td>\n",
              "      <td>3</td>\n",
              "      <td>-9,70020602</td>\n",
              "      <td>-54,87588757</td>\n",
              "      <td>SPRF-MT</td>\n",
              "      <td>DEL06-MT</td>\n",
              "      <td>UOP03-DEL06-MT</td>\n",
              "      <td>2023</td>\n",
              "      <td>1</td>\n",
              "    </tr>\n",
              "  </tbody>\n",
              "</table>\n",
              "</div>"
            ],
            "text/plain": [
              "         id data_inversa dia_semana   horario  uf   br     km  \\\n",
              "0  496519.0   2023-01-01    domingo  02:00:00  ES  101    114   \n",
              "1  496543.0   2023-01-01    domingo  03:40:00  SP  116  113,1   \n",
              "2  496590.0   2023-01-01    domingo  01:40:00  MT  163   1112   \n",
              "\n",
              "           municipio                            causa_acidente  \\\n",
              "0          SOORETAMA            Ausência de reação do condutor   \n",
              "1            TAUBATE             Entrada inopinada do pedestre   \n",
              "2  GUARANTA DO NORTE  Reação tardia ou ineficiente do condutor   \n",
              "\n",
              "               tipo_acidente classificacao_acidente     fase_dia  sentido_via  \\\n",
              "0  Saída de leito carroçável    Com Vítimas Feridas  Plena Noite    Crescente   \n",
              "1  Atropelamento de Pedestre     Com Vítimas Fatais  Plena Noite  Decrescente   \n",
              "2                 Tombamento                    NaN  Plena Noite    Crescente   \n",
              "\n",
              "  condicao_metereologica tipo_pista    tracado_via uso_solo  pessoas  mortos  \\\n",
              "0              Céu Claro    Simples           Reta      Não        1       0   \n",
              "1              Céu Claro      Dupla           Reta      Sim        5       1   \n",
              "2               Ignorado    Simples  Curva;Declive      Não        2       0   \n",
              "\n",
              "   feridos_leves  feridos_graves  ilesos  ignorados  feridos  veiculos  \\\n",
              "0              1               0       0          0        1         1   \n",
              "1              0               0       0          4        0         2   \n",
              "2              0               1       0          2        1         3   \n",
              "\n",
              "       latitude     longitude regional delegacia             uop   ano  mes  \n",
              "0  -19,09484877  -40,05095848  SPRF-ES  DEL04-ES  UOP01-DEL04-ES  2023    1  \n",
              "1   -23,0445658  -45,58259814  SPRF-SP  DEL02-SP  UOP02-DEL02-SP  2023    1  \n",
              "2   -9,70020602  -54,87588757  SPRF-MT  DEL06-MT  UOP03-DEL06-MT  2023    1  "
            ]
          },
          "execution_count": 9,
          "metadata": {},
          "output_type": "execute_result"
        }
      ],
      "source": [
        "df.head(3)"
      ]
    },
    {
      "cell_type": "code",
      "execution_count": 10,
      "metadata": {},
      "outputs": [
        {
          "data": {
            "text/plain": [
              "(163421, 32)"
            ]
          },
          "execution_count": 10,
          "metadata": {},
          "output_type": "execute_result"
        }
      ],
      "source": [
        "df.shape"
      ]
    },
    {
      "cell_type": "code",
      "execution_count": 11,
      "metadata": {
        "colab": {
          "base_uri": "https://localhost:8080/"
        },
        "id": "7U0jmhuuYoEb",
        "outputId": "74be087c-9843-4409-a5bb-cdcba30429fc"
      },
      "outputs": [
        {
          "name": "stdout",
          "output_type": "stream",
          "text": [
            "<class 'pandas.core.frame.DataFrame'>\n",
            "RangeIndex: 163421 entries, 0 to 163420\n",
            "Data columns (total 32 columns):\n",
            " #   Column                  Non-Null Count   Dtype         \n",
            "---  ------                  --------------   -----         \n",
            " 0   id                      163421 non-null  float64       \n",
            " 1   data_inversa            163421 non-null  datetime64[ns]\n",
            " 2   dia_semana              163421 non-null  object        \n",
            " 3   horario                 163421 non-null  object        \n",
            " 4   uf                      163421 non-null  object        \n",
            " 5   br                      163421 non-null  int64         \n",
            " 6   km                      163421 non-null  object        \n",
            " 7   municipio               163421 non-null  object        \n",
            " 8   causa_acidente          163421 non-null  object        \n",
            " 9   tipo_acidente           163421 non-null  object        \n",
            " 10  classificacao_acidente  163418 non-null  object        \n",
            " 11  fase_dia                163421 non-null  object        \n",
            " 12  sentido_via             163421 non-null  object        \n",
            " 13  condicao_metereologica  163421 non-null  object        \n",
            " 14  tipo_pista              163421 non-null  object        \n",
            " 15  tracado_via             163421 non-null  object        \n",
            " 16  uso_solo                163421 non-null  object        \n",
            " 17  pessoas                 163421 non-null  int64         \n",
            " 18  mortos                  163421 non-null  Int64         \n",
            " 19  feridos_leves           163421 non-null  int64         \n",
            " 20  feridos_graves          163421 non-null  Int64         \n",
            " 21  ilesos                  163421 non-null  int64         \n",
            " 22  ignorados               163421 non-null  int64         \n",
            " 23  feridos                 163421 non-null  int64         \n",
            " 24  veiculos                163421 non-null  Int64         \n",
            " 25  latitude                163421 non-null  object        \n",
            " 26  longitude               163421 non-null  object        \n",
            " 27  regional                163401 non-null  object        \n",
            " 28  delegacia               163348 non-null  object        \n",
            " 29  uop                     163253 non-null  object        \n",
            " 30  ano                     163421 non-null  int64         \n",
            " 31  mes                     163421 non-null  int64         \n",
            "dtypes: Int64(3), datetime64[ns](1), float64(1), int64(8), object(19)\n",
            "memory usage: 40.4+ MB\n"
          ]
        }
      ],
      "source": [
        "df.info()"
      ]
    },
    {
      "cell_type": "markdown",
      "metadata": {},
      "source": [
        "### Fazendo primeira inspeção para seleção de atributos com base no problema a ser resolvido"
      ]
    },
    {
      "cell_type": "code",
      "execution_count": 9,
      "metadata": {},
      "outputs": [
        {
          "data": {
            "text/html": [
              "<div>\n",
              "<style scoped>\n",
              "    .dataframe tbody tr th:only-of-type {\n",
              "        vertical-align: middle;\n",
              "    }\n",
              "\n",
              "    .dataframe tbody tr th {\n",
              "        vertical-align: top;\n",
              "    }\n",
              "\n",
              "    .dataframe thead th {\n",
              "        text-align: right;\n",
              "    }\n",
              "</style>\n",
              "<table border=\"1\" class=\"dataframe\">\n",
              "  <thead>\n",
              "    <tr style=\"text-align: right;\">\n",
              "      <th></th>\n",
              "      <th>id</th>\n",
              "      <th>data_inversa</th>\n",
              "      <th>dia_semana</th>\n",
              "      <th>horario</th>\n",
              "      <th>uf</th>\n",
              "      <th>br</th>\n",
              "      <th>km</th>\n",
              "      <th>municipio</th>\n",
              "      <th>causa_acidente</th>\n",
              "      <th>tipo_acidente</th>\n",
              "      <th>classificacao_acidente</th>\n",
              "      <th>fase_dia</th>\n",
              "      <th>sentido_via</th>\n",
              "      <th>condicao_metereologica</th>\n",
              "      <th>tipo_pista</th>\n",
              "      <th>tracado_via</th>\n",
              "      <th>uso_solo</th>\n",
              "      <th>pessoas</th>\n",
              "      <th>mortos</th>\n",
              "      <th>feridos_leves</th>\n",
              "      <th>feridos_graves</th>\n",
              "      <th>ilesos</th>\n",
              "      <th>ignorados</th>\n",
              "      <th>feridos</th>\n",
              "      <th>veiculos</th>\n",
              "      <th>latitude</th>\n",
              "      <th>longitude</th>\n",
              "      <th>regional</th>\n",
              "      <th>delegacia</th>\n",
              "      <th>uop</th>\n",
              "      <th>ano</th>\n",
              "      <th>mes</th>\n",
              "    </tr>\n",
              "  </thead>\n",
              "  <tbody>\n",
              "    <tr>\n",
              "      <th>count</th>\n",
              "      <td>163421.000000</td>\n",
              "      <td>163421</td>\n",
              "      <td>163421</td>\n",
              "      <td>163421</td>\n",
              "      <td>163421</td>\n",
              "      <td>163421.000000</td>\n",
              "      <td>163421</td>\n",
              "      <td>163421</td>\n",
              "      <td>163421</td>\n",
              "      <td>163421</td>\n",
              "      <td>163418</td>\n",
              "      <td>163421</td>\n",
              "      <td>163421</td>\n",
              "      <td>163421</td>\n",
              "      <td>163421</td>\n",
              "      <td>163421</td>\n",
              "      <td>163421</td>\n",
              "      <td>163421.000000</td>\n",
              "      <td>163421.000000</td>\n",
              "      <td>163421.000000</td>\n",
              "      <td>163421.000000</td>\n",
              "      <td>163421.000000</td>\n",
              "      <td>163421.000000</td>\n",
              "      <td>163421.000000</td>\n",
              "      <td>163421.000000</td>\n",
              "      <td>163421</td>\n",
              "      <td>163421</td>\n",
              "      <td>163401</td>\n",
              "      <td>163348</td>\n",
              "      <td>163253</td>\n",
              "      <td>163421.000000</td>\n",
              "      <td>163421.000000</td>\n",
              "    </tr>\n",
              "    <tr>\n",
              "      <th>unique</th>\n",
              "      <td>NaN</td>\n",
              "      <td>851</td>\n",
              "      <td>7</td>\n",
              "      <td>1437</td>\n",
              "      <td>27</td>\n",
              "      <td>NaN</td>\n",
              "      <td>8882</td>\n",
              "      <td>1947</td>\n",
              "      <td>75</td>\n",
              "      <td>17</td>\n",
              "      <td>3</td>\n",
              "      <td>4</td>\n",
              "      <td>3</td>\n",
              "      <td>10</td>\n",
              "      <td>3</td>\n",
              "      <td>943</td>\n",
              "      <td>2</td>\n",
              "      <td>NaN</td>\n",
              "      <td>NaN</td>\n",
              "      <td>NaN</td>\n",
              "      <td>NaN</td>\n",
              "      <td>NaN</td>\n",
              "      <td>NaN</td>\n",
              "      <td>NaN</td>\n",
              "      <td>NaN</td>\n",
              "      <td>90224</td>\n",
              "      <td>90183</td>\n",
              "      <td>28</td>\n",
              "      <td>153</td>\n",
              "      <td>402</td>\n",
              "      <td>NaN</td>\n",
              "      <td>NaN</td>\n",
              "    </tr>\n",
              "    <tr>\n",
              "      <th>top</th>\n",
              "      <td>NaN</td>\n",
              "      <td>2024-12-21 00:00:00</td>\n",
              "      <td>domingo</td>\n",
              "      <td>19:00:00</td>\n",
              "      <td>MG</td>\n",
              "      <td>NaN</td>\n",
              "      <td>1</td>\n",
              "      <td>BRASILIA</td>\n",
              "      <td>Reação tardia ou ineficiente do condutor</td>\n",
              "      <td>Colisão traseira</td>\n",
              "      <td>Com Vítimas Feridas</td>\n",
              "      <td>Pleno dia</td>\n",
              "      <td>Crescente</td>\n",
              "      <td>Céu Claro</td>\n",
              "      <td>Simples</td>\n",
              "      <td>Reta</td>\n",
              "      <td>Não</td>\n",
              "      <td>NaN</td>\n",
              "      <td>NaN</td>\n",
              "      <td>NaN</td>\n",
              "      <td>NaN</td>\n",
              "      <td>NaN</td>\n",
              "      <td>NaN</td>\n",
              "      <td>NaN</td>\n",
              "      <td>NaN</td>\n",
              "      <td>-27,59193546</td>\n",
              "      <td>-48,61824557</td>\n",
              "      <td>SPRF-MG</td>\n",
              "      <td>DEL01-PR</td>\n",
              "      <td>UOP01-DEL01-SC</td>\n",
              "      <td>NaN</td>\n",
              "      <td>NaN</td>\n",
              "    </tr>\n",
              "    <tr>\n",
              "      <th>freq</th>\n",
              "      <td>NaN</td>\n",
              "      <td>319</td>\n",
              "      <td>26557</td>\n",
              "      <td>2405</td>\n",
              "      <td>21198</td>\n",
              "      <td>NaN</td>\n",
              "      <td>788</td>\n",
              "      <td>2349</td>\n",
              "      <td>24113</td>\n",
              "      <td>31352</td>\n",
              "      <td>125628</td>\n",
              "      <td>90602</td>\n",
              "      <td>88034</td>\n",
              "      <td>103340</td>\n",
              "      <td>79392</td>\n",
              "      <td>90869</td>\n",
              "      <td>93879</td>\n",
              "      <td>NaN</td>\n",
              "      <td>NaN</td>\n",
              "      <td>NaN</td>\n",
              "      <td>NaN</td>\n",
              "      <td>NaN</td>\n",
              "      <td>NaN</td>\n",
              "      <td>NaN</td>\n",
              "      <td>NaN</td>\n",
              "      <td>83</td>\n",
              "      <td>83</td>\n",
              "      <td>21144</td>\n",
              "      <td>5815</td>\n",
              "      <td>2689</td>\n",
              "      <td>NaN</td>\n",
              "      <td>NaN</td>\n",
              "    </tr>\n",
              "    <tr>\n",
              "      <th>first</th>\n",
              "      <td>NaN</td>\n",
              "      <td>2023-01-01 00:00:00</td>\n",
              "      <td>NaN</td>\n",
              "      <td>NaN</td>\n",
              "      <td>NaN</td>\n",
              "      <td>NaN</td>\n",
              "      <td>NaN</td>\n",
              "      <td>NaN</td>\n",
              "      <td>NaN</td>\n",
              "      <td>NaN</td>\n",
              "      <td>NaN</td>\n",
              "      <td>NaN</td>\n",
              "      <td>NaN</td>\n",
              "      <td>NaN</td>\n",
              "      <td>NaN</td>\n",
              "      <td>NaN</td>\n",
              "      <td>NaN</td>\n",
              "      <td>NaN</td>\n",
              "      <td>NaN</td>\n",
              "      <td>NaN</td>\n",
              "      <td>NaN</td>\n",
              "      <td>NaN</td>\n",
              "      <td>NaN</td>\n",
              "      <td>NaN</td>\n",
              "      <td>NaN</td>\n",
              "      <td>NaN</td>\n",
              "      <td>NaN</td>\n",
              "      <td>NaN</td>\n",
              "      <td>NaN</td>\n",
              "      <td>NaN</td>\n",
              "      <td>NaN</td>\n",
              "      <td>NaN</td>\n",
              "    </tr>\n",
              "    <tr>\n",
              "      <th>last</th>\n",
              "      <td>NaN</td>\n",
              "      <td>2025-04-30 00:00:00</td>\n",
              "      <td>NaN</td>\n",
              "      <td>NaN</td>\n",
              "      <td>NaN</td>\n",
              "      <td>NaN</td>\n",
              "      <td>NaN</td>\n",
              "      <td>NaN</td>\n",
              "      <td>NaN</td>\n",
              "      <td>NaN</td>\n",
              "      <td>NaN</td>\n",
              "      <td>NaN</td>\n",
              "      <td>NaN</td>\n",
              "      <td>NaN</td>\n",
              "      <td>NaN</td>\n",
              "      <td>NaN</td>\n",
              "      <td>NaN</td>\n",
              "      <td>NaN</td>\n",
              "      <td>NaN</td>\n",
              "      <td>NaN</td>\n",
              "      <td>NaN</td>\n",
              "      <td>NaN</td>\n",
              "      <td>NaN</td>\n",
              "      <td>NaN</td>\n",
              "      <td>NaN</td>\n",
              "      <td>NaN</td>\n",
              "      <td>NaN</td>\n",
              "      <td>NaN</td>\n",
              "      <td>NaN</td>\n",
              "      <td>NaN</td>\n",
              "      <td>NaN</td>\n",
              "      <td>NaN</td>\n",
              "    </tr>\n",
              "    <tr>\n",
              "      <th>mean</th>\n",
              "      <td>588093.820482</td>\n",
              "      <td>NaN</td>\n",
              "      <td>NaN</td>\n",
              "      <td>NaN</td>\n",
              "      <td>NaN</td>\n",
              "      <td>209.247765</td>\n",
              "      <td>NaN</td>\n",
              "      <td>NaN</td>\n",
              "      <td>NaN</td>\n",
              "      <td>NaN</td>\n",
              "      <td>NaN</td>\n",
              "      <td>NaN</td>\n",
              "      <td>NaN</td>\n",
              "      <td>NaN</td>\n",
              "      <td>NaN</td>\n",
              "      <td>NaN</td>\n",
              "      <td>NaN</td>\n",
              "      <td>2.607033</td>\n",
              "      <td>0.083013</td>\n",
              "      <td>0.880334</td>\n",
              "      <td>0.277828</td>\n",
              "      <td>1.056810</td>\n",
              "      <td>0.396363</td>\n",
              "      <td>1.158162</td>\n",
              "      <td>1.990901</td>\n",
              "      <td>NaN</td>\n",
              "      <td>NaN</td>\n",
              "      <td>NaN</td>\n",
              "      <td>NaN</td>\n",
              "      <td>NaN</td>\n",
              "      <td>2023.723004</td>\n",
              "      <td>6.094296</td>\n",
              "    </tr>\n",
              "    <tr>\n",
              "      <th>std</th>\n",
              "      <td>52436.538404</td>\n",
              "      <td>NaN</td>\n",
              "      <td>NaN</td>\n",
              "      <td>NaN</td>\n",
              "      <td>NaN</td>\n",
              "      <td>129.104793</td>\n",
              "      <td>NaN</td>\n",
              "      <td>NaN</td>\n",
              "      <td>NaN</td>\n",
              "      <td>NaN</td>\n",
              "      <td>NaN</td>\n",
              "      <td>NaN</td>\n",
              "      <td>NaN</td>\n",
              "      <td>NaN</td>\n",
              "      <td>NaN</td>\n",
              "      <td>NaN</td>\n",
              "      <td>NaN</td>\n",
              "      <td>2.256839</td>\n",
              "      <td>0.350148</td>\n",
              "      <td>1.108036</td>\n",
              "      <td>0.623514</td>\n",
              "      <td>1.783902</td>\n",
              "      <td>0.848289</td>\n",
              "      <td>1.228514</td>\n",
              "      <td>1.140464</td>\n",
              "      <td>NaN</td>\n",
              "      <td>NaN</td>\n",
              "      <td>NaN</td>\n",
              "      <td>NaN</td>\n",
              "      <td>NaN</td>\n",
              "      <td>0.689654</td>\n",
              "      <td>3.519355</td>\n",
              "    </tr>\n",
              "    <tr>\n",
              "      <th>min</th>\n",
              "      <td>496506.000000</td>\n",
              "      <td>NaN</td>\n",
              "      <td>NaN</td>\n",
              "      <td>NaN</td>\n",
              "      <td>NaN</td>\n",
              "      <td>0.000000</td>\n",
              "      <td>NaN</td>\n",
              "      <td>NaN</td>\n",
              "      <td>NaN</td>\n",
              "      <td>NaN</td>\n",
              "      <td>NaN</td>\n",
              "      <td>NaN</td>\n",
              "      <td>NaN</td>\n",
              "      <td>NaN</td>\n",
              "      <td>NaN</td>\n",
              "      <td>NaN</td>\n",
              "      <td>NaN</td>\n",
              "      <td>1.000000</td>\n",
              "      <td>0.000000</td>\n",
              "      <td>0.000000</td>\n",
              "      <td>0.000000</td>\n",
              "      <td>0.000000</td>\n",
              "      <td>0.000000</td>\n",
              "      <td>0.000000</td>\n",
              "      <td>1.000000</td>\n",
              "      <td>NaN</td>\n",
              "      <td>NaN</td>\n",
              "      <td>NaN</td>\n",
              "      <td>NaN</td>\n",
              "      <td>NaN</td>\n",
              "      <td>2023.000000</td>\n",
              "      <td>1.000000</td>\n",
              "    </tr>\n",
              "    <tr>\n",
              "      <th>25%</th>\n",
              "      <td>542921.000000</td>\n",
              "      <td>NaN</td>\n",
              "      <td>NaN</td>\n",
              "      <td>NaN</td>\n",
              "      <td>NaN</td>\n",
              "      <td>101.000000</td>\n",
              "      <td>NaN</td>\n",
              "      <td>NaN</td>\n",
              "      <td>NaN</td>\n",
              "      <td>NaN</td>\n",
              "      <td>NaN</td>\n",
              "      <td>NaN</td>\n",
              "      <td>NaN</td>\n",
              "      <td>NaN</td>\n",
              "      <td>NaN</td>\n",
              "      <td>NaN</td>\n",
              "      <td>NaN</td>\n",
              "      <td>2.000000</td>\n",
              "      <td>0.000000</td>\n",
              "      <td>0.000000</td>\n",
              "      <td>0.000000</td>\n",
              "      <td>0.000000</td>\n",
              "      <td>0.000000</td>\n",
              "      <td>1.000000</td>\n",
              "      <td>1.000000</td>\n",
              "      <td>NaN</td>\n",
              "      <td>NaN</td>\n",
              "      <td>NaN</td>\n",
              "      <td>NaN</td>\n",
              "      <td>NaN</td>\n",
              "      <td>2023.000000</td>\n",
              "      <td>3.000000</td>\n",
              "    </tr>\n",
              "    <tr>\n",
              "      <th>50%</th>\n",
              "      <td>588333.000000</td>\n",
              "      <td>NaN</td>\n",
              "      <td>NaN</td>\n",
              "      <td>NaN</td>\n",
              "      <td>NaN</td>\n",
              "      <td>158.000000</td>\n",
              "      <td>NaN</td>\n",
              "      <td>NaN</td>\n",
              "      <td>NaN</td>\n",
              "      <td>NaN</td>\n",
              "      <td>NaN</td>\n",
              "      <td>NaN</td>\n",
              "      <td>NaN</td>\n",
              "      <td>NaN</td>\n",
              "      <td>NaN</td>\n",
              "      <td>NaN</td>\n",
              "      <td>NaN</td>\n",
              "      <td>2.000000</td>\n",
              "      <td>0.000000</td>\n",
              "      <td>1.000000</td>\n",
              "      <td>0.000000</td>\n",
              "      <td>1.000000</td>\n",
              "      <td>0.000000</td>\n",
              "      <td>1.000000</td>\n",
              "      <td>2.000000</td>\n",
              "      <td>NaN</td>\n",
              "      <td>NaN</td>\n",
              "      <td>NaN</td>\n",
              "      <td>NaN</td>\n",
              "      <td>NaN</td>\n",
              "      <td>2024.000000</td>\n",
              "      <td>6.000000</td>\n",
              "    </tr>\n",
              "    <tr>\n",
              "      <th>75%</th>\n",
              "      <td>633116.000000</td>\n",
              "      <td>NaN</td>\n",
              "      <td>NaN</td>\n",
              "      <td>NaN</td>\n",
              "      <td>NaN</td>\n",
              "      <td>324.000000</td>\n",
              "      <td>NaN</td>\n",
              "      <td>NaN</td>\n",
              "      <td>NaN</td>\n",
              "      <td>NaN</td>\n",
              "      <td>NaN</td>\n",
              "      <td>NaN</td>\n",
              "      <td>NaN</td>\n",
              "      <td>NaN</td>\n",
              "      <td>NaN</td>\n",
              "      <td>NaN</td>\n",
              "      <td>NaN</td>\n",
              "      <td>3.000000</td>\n",
              "      <td>0.000000</td>\n",
              "      <td>1.000000</td>\n",
              "      <td>0.000000</td>\n",
              "      <td>1.000000</td>\n",
              "      <td>1.000000</td>\n",
              "      <td>1.000000</td>\n",
              "      <td>2.000000</td>\n",
              "      <td>NaN</td>\n",
              "      <td>NaN</td>\n",
              "      <td>NaN</td>\n",
              "      <td>NaN</td>\n",
              "      <td>NaN</td>\n",
              "      <td>2024.000000</td>\n",
              "      <td>9.000000</td>\n",
              "    </tr>\n",
              "    <tr>\n",
              "      <th>max</th>\n",
              "      <td>691875.000000</td>\n",
              "      <td>NaN</td>\n",
              "      <td>NaN</td>\n",
              "      <td>NaN</td>\n",
              "      <td>NaN</td>\n",
              "      <td>498.000000</td>\n",
              "      <td>NaN</td>\n",
              "      <td>NaN</td>\n",
              "      <td>NaN</td>\n",
              "      <td>NaN</td>\n",
              "      <td>NaN</td>\n",
              "      <td>NaN</td>\n",
              "      <td>NaN</td>\n",
              "      <td>NaN</td>\n",
              "      <td>NaN</td>\n",
              "      <td>NaN</td>\n",
              "      <td>NaN</td>\n",
              "      <td>95.000000</td>\n",
              "      <td>37.000000</td>\n",
              "      <td>83.000000</td>\n",
              "      <td>35.000000</td>\n",
              "      <td>78.000000</td>\n",
              "      <td>88.000000</td>\n",
              "      <td>84.000000</td>\n",
              "      <td>131.000000</td>\n",
              "      <td>NaN</td>\n",
              "      <td>NaN</td>\n",
              "      <td>NaN</td>\n",
              "      <td>NaN</td>\n",
              "      <td>NaN</td>\n",
              "      <td>2025.000000</td>\n",
              "      <td>12.000000</td>\n",
              "    </tr>\n",
              "  </tbody>\n",
              "</table>\n",
              "</div>"
            ],
            "text/plain": [
              "                   id         data_inversa dia_semana   horario      uf  \\\n",
              "count   163421.000000               163421     163421    163421  163421   \n",
              "unique            NaN                  851          7      1437      27   \n",
              "top               NaN  2024-12-21 00:00:00    domingo  19:00:00      MG   \n",
              "freq              NaN                  319      26557      2405   21198   \n",
              "first             NaN  2023-01-01 00:00:00        NaN       NaN     NaN   \n",
              "last              NaN  2025-04-30 00:00:00        NaN       NaN     NaN   \n",
              "mean    588093.820482                  NaN        NaN       NaN     NaN   \n",
              "std      52436.538404                  NaN        NaN       NaN     NaN   \n",
              "min     496506.000000                  NaN        NaN       NaN     NaN   \n",
              "25%     542921.000000                  NaN        NaN       NaN     NaN   \n",
              "50%     588333.000000                  NaN        NaN       NaN     NaN   \n",
              "75%     633116.000000                  NaN        NaN       NaN     NaN   \n",
              "max     691875.000000                  NaN        NaN       NaN     NaN   \n",
              "\n",
              "                   br      km municipio  \\\n",
              "count   163421.000000  163421    163421   \n",
              "unique            NaN    8882      1947   \n",
              "top               NaN       1  BRASILIA   \n",
              "freq              NaN     788      2349   \n",
              "first             NaN     NaN       NaN   \n",
              "last              NaN     NaN       NaN   \n",
              "mean       209.247765     NaN       NaN   \n",
              "std        129.104793     NaN       NaN   \n",
              "min          0.000000     NaN       NaN   \n",
              "25%        101.000000     NaN       NaN   \n",
              "50%        158.000000     NaN       NaN   \n",
              "75%        324.000000     NaN       NaN   \n",
              "max        498.000000     NaN       NaN   \n",
              "\n",
              "                                  causa_acidente     tipo_acidente  \\\n",
              "count                                     163421            163421   \n",
              "unique                                        75                17   \n",
              "top     Reação tardia ou ineficiente do condutor  Colisão traseira   \n",
              "freq                                       24113             31352   \n",
              "first                                        NaN               NaN   \n",
              "last                                         NaN               NaN   \n",
              "mean                                         NaN               NaN   \n",
              "std                                          NaN               NaN   \n",
              "min                                          NaN               NaN   \n",
              "25%                                          NaN               NaN   \n",
              "50%                                          NaN               NaN   \n",
              "75%                                          NaN               NaN   \n",
              "max                                          NaN               NaN   \n",
              "\n",
              "       classificacao_acidente   fase_dia sentido_via condicao_metereologica  \\\n",
              "count                  163418     163421      163421                 163421   \n",
              "unique                      3          4           3                     10   \n",
              "top       Com Vítimas Feridas  Pleno dia   Crescente              Céu Claro   \n",
              "freq                   125628      90602       88034                 103340   \n",
              "first                     NaN        NaN         NaN                    NaN   \n",
              "last                      NaN        NaN         NaN                    NaN   \n",
              "mean                      NaN        NaN         NaN                    NaN   \n",
              "std                       NaN        NaN         NaN                    NaN   \n",
              "min                       NaN        NaN         NaN                    NaN   \n",
              "25%                       NaN        NaN         NaN                    NaN   \n",
              "50%                       NaN        NaN         NaN                    NaN   \n",
              "75%                       NaN        NaN         NaN                    NaN   \n",
              "max                       NaN        NaN         NaN                    NaN   \n",
              "\n",
              "       tipo_pista tracado_via uso_solo        pessoas         mortos  \\\n",
              "count      163421      163421   163421  163421.000000  163421.000000   \n",
              "unique          3         943        2            NaN            NaN   \n",
              "top       Simples        Reta      Não            NaN            NaN   \n",
              "freq        79392       90869    93879            NaN            NaN   \n",
              "first         NaN         NaN      NaN            NaN            NaN   \n",
              "last          NaN         NaN      NaN            NaN            NaN   \n",
              "mean          NaN         NaN      NaN       2.607033       0.083013   \n",
              "std           NaN         NaN      NaN       2.256839       0.350148   \n",
              "min           NaN         NaN      NaN       1.000000       0.000000   \n",
              "25%           NaN         NaN      NaN       2.000000       0.000000   \n",
              "50%           NaN         NaN      NaN       2.000000       0.000000   \n",
              "75%           NaN         NaN      NaN       3.000000       0.000000   \n",
              "max           NaN         NaN      NaN      95.000000      37.000000   \n",
              "\n",
              "        feridos_leves  feridos_graves         ilesos      ignorados  \\\n",
              "count   163421.000000   163421.000000  163421.000000  163421.000000   \n",
              "unique            NaN             NaN            NaN            NaN   \n",
              "top               NaN             NaN            NaN            NaN   \n",
              "freq              NaN             NaN            NaN            NaN   \n",
              "first             NaN             NaN            NaN            NaN   \n",
              "last              NaN             NaN            NaN            NaN   \n",
              "mean         0.880334        0.277828       1.056810       0.396363   \n",
              "std          1.108036        0.623514       1.783902       0.848289   \n",
              "min          0.000000        0.000000       0.000000       0.000000   \n",
              "25%          0.000000        0.000000       0.000000       0.000000   \n",
              "50%          1.000000        0.000000       1.000000       0.000000   \n",
              "75%          1.000000        0.000000       1.000000       1.000000   \n",
              "max         83.000000       35.000000      78.000000      88.000000   \n",
              "\n",
              "              feridos       veiculos      latitude     longitude regional  \\\n",
              "count   163421.000000  163421.000000        163421        163421   163401   \n",
              "unique            NaN            NaN         90224         90183       28   \n",
              "top               NaN            NaN  -27,59193546  -48,61824557  SPRF-MG   \n",
              "freq              NaN            NaN            83            83    21144   \n",
              "first             NaN            NaN           NaN           NaN      NaN   \n",
              "last              NaN            NaN           NaN           NaN      NaN   \n",
              "mean         1.158162       1.990901           NaN           NaN      NaN   \n",
              "std          1.228514       1.140464           NaN           NaN      NaN   \n",
              "min          0.000000       1.000000           NaN           NaN      NaN   \n",
              "25%          1.000000       1.000000           NaN           NaN      NaN   \n",
              "50%          1.000000       2.000000           NaN           NaN      NaN   \n",
              "75%          1.000000       2.000000           NaN           NaN      NaN   \n",
              "max         84.000000     131.000000           NaN           NaN      NaN   \n",
              "\n",
              "       delegacia             uop            ano            mes  \n",
              "count     163348          163253  163421.000000  163421.000000  \n",
              "unique       153             402            NaN            NaN  \n",
              "top     DEL01-PR  UOP01-DEL01-SC            NaN            NaN  \n",
              "freq        5815            2689            NaN            NaN  \n",
              "first        NaN             NaN            NaN            NaN  \n",
              "last         NaN             NaN            NaN            NaN  \n",
              "mean         NaN             NaN    2023.723004       6.094296  \n",
              "std          NaN             NaN       0.689654       3.519355  \n",
              "min          NaN             NaN    2023.000000       1.000000  \n",
              "25%          NaN             NaN    2023.000000       3.000000  \n",
              "50%          NaN             NaN    2024.000000       6.000000  \n",
              "75%          NaN             NaN    2024.000000       9.000000  \n",
              "max          NaN             NaN    2025.000000      12.000000  "
            ]
          },
          "execution_count": 9,
          "metadata": {},
          "output_type": "execute_result"
        }
      ],
      "source": [
        "df.describe(include='all')"
      ]
    },
    {
      "cell_type": "code",
      "execution_count": 10,
      "metadata": {
        "colab": {
          "base_uri": "https://localhost:8080/",
          "height": 1000
        },
        "id": "4MxmEditZOkd",
        "outputId": "c18cec2b-4a5a-4df9-91c0-e032c0446650"
      },
      "outputs": [
        {
          "data": {
            "text/plain": [
              "id                          0\n",
              "data_inversa                0\n",
              "dia_semana                  0\n",
              "horario                     0\n",
              "uf                          0\n",
              "br                          0\n",
              "km                          0\n",
              "municipio                   0\n",
              "causa_acidente              0\n",
              "tipo_acidente               0\n",
              "classificacao_acidente      3\n",
              "fase_dia                    0\n",
              "sentido_via                 0\n",
              "condicao_metereologica      0\n",
              "tipo_pista                  0\n",
              "tracado_via                 0\n",
              "uso_solo                    0\n",
              "pessoas                     0\n",
              "mortos                      0\n",
              "feridos_leves               0\n",
              "feridos_graves              0\n",
              "ilesos                      0\n",
              "ignorados                   0\n",
              "feridos                     0\n",
              "veiculos                    0\n",
              "latitude                    0\n",
              "longitude                   0\n",
              "regional                   20\n",
              "delegacia                  73\n",
              "uop                       168\n",
              "ano                         0\n",
              "mes                         0\n",
              "dtype: int64"
            ]
          },
          "execution_count": 10,
          "metadata": {},
          "output_type": "execute_result"
        }
      ],
      "source": [
        "#Verificação de dados nulos\n",
        "df.isnull().sum()"
      ]
    },
    {
      "cell_type": "code",
      "execution_count": 6,
      "metadata": {},
      "outputs": [],
      "source": [
        "datatran = df[['id', 'ano', 'mes', 'data_inversa', 'uf', 'br', 'km', 'municipio', 'causa_acidente', 'classificacao_acidente', 'veiculos', 'condicao_metereologica', 'fase_dia', 'dia_semana', 'tipo_acidente', 'tipo_pista', 'mortos', 'feridos_graves', 'latitude', 'longitude']]"
      ]
    },
    {
      "cell_type": "code",
      "execution_count": 13,
      "metadata": {},
      "outputs": [
        {
          "data": {
            "text/html": [
              "<div>\n",
              "<style scoped>\n",
              "    .dataframe tbody tr th:only-of-type {\n",
              "        vertical-align: middle;\n",
              "    }\n",
              "\n",
              "    .dataframe tbody tr th {\n",
              "        vertical-align: top;\n",
              "    }\n",
              "\n",
              "    .dataframe thead th {\n",
              "        text-align: right;\n",
              "    }\n",
              "</style>\n",
              "<table border=\"1\" class=\"dataframe\">\n",
              "  <thead>\n",
              "    <tr style=\"text-align: right;\">\n",
              "      <th></th>\n",
              "      <th>id</th>\n",
              "      <th>ano</th>\n",
              "      <th>mes</th>\n",
              "      <th>data_inversa</th>\n",
              "      <th>uf</th>\n",
              "      <th>br</th>\n",
              "      <th>km</th>\n",
              "      <th>municipio</th>\n",
              "      <th>causa_acidente</th>\n",
              "      <th>classificacao_acidente</th>\n",
              "      <th>veiculos</th>\n",
              "      <th>condicao_metereologica</th>\n",
              "      <th>fase_dia</th>\n",
              "      <th>dia_semana</th>\n",
              "      <th>tipo_acidente</th>\n",
              "      <th>tipo_pista</th>\n",
              "      <th>mortos</th>\n",
              "      <th>feridos_graves</th>\n",
              "      <th>latitude</th>\n",
              "      <th>longitude</th>\n",
              "    </tr>\n",
              "  </thead>\n",
              "  <tbody>\n",
              "    <tr>\n",
              "      <th>0</th>\n",
              "      <td>496519.0</td>\n",
              "      <td>2023</td>\n",
              "      <td>1</td>\n",
              "      <td>2023-01-01</td>\n",
              "      <td>ES</td>\n",
              "      <td>101</td>\n",
              "      <td>114</td>\n",
              "      <td>SOORETAMA</td>\n",
              "      <td>Ausência de reação do condutor</td>\n",
              "      <td>Com Vítimas Feridas</td>\n",
              "      <td>1</td>\n",
              "      <td>Céu Claro</td>\n",
              "      <td>Plena Noite</td>\n",
              "      <td>domingo</td>\n",
              "      <td>Saída de leito carroçável</td>\n",
              "      <td>Simples</td>\n",
              "      <td>0</td>\n",
              "      <td>0</td>\n",
              "      <td>-19,09484877</td>\n",
              "      <td>-40,05095848</td>\n",
              "    </tr>\n",
              "    <tr>\n",
              "      <th>1</th>\n",
              "      <td>496543.0</td>\n",
              "      <td>2023</td>\n",
              "      <td>1</td>\n",
              "      <td>2023-01-01</td>\n",
              "      <td>SP</td>\n",
              "      <td>116</td>\n",
              "      <td>113,1</td>\n",
              "      <td>TAUBATE</td>\n",
              "      <td>Entrada inopinada do pedestre</td>\n",
              "      <td>Com Vítimas Fatais</td>\n",
              "      <td>2</td>\n",
              "      <td>Céu Claro</td>\n",
              "      <td>Plena Noite</td>\n",
              "      <td>domingo</td>\n",
              "      <td>Atropelamento de Pedestre</td>\n",
              "      <td>Dupla</td>\n",
              "      <td>1</td>\n",
              "      <td>0</td>\n",
              "      <td>-23,0445658</td>\n",
              "      <td>-45,58259814</td>\n",
              "    </tr>\n",
              "    <tr>\n",
              "      <th>2</th>\n",
              "      <td>496590.0</td>\n",
              "      <td>2023</td>\n",
              "      <td>1</td>\n",
              "      <td>2023-01-01</td>\n",
              "      <td>MT</td>\n",
              "      <td>163</td>\n",
              "      <td>1112</td>\n",
              "      <td>GUARANTA DO NORTE</td>\n",
              "      <td>Reação tardia ou ineficiente do condutor</td>\n",
              "      <td>NaN</td>\n",
              "      <td>3</td>\n",
              "      <td>Ignorado</td>\n",
              "      <td>Plena Noite</td>\n",
              "      <td>domingo</td>\n",
              "      <td>Tombamento</td>\n",
              "      <td>Simples</td>\n",
              "      <td>0</td>\n",
              "      <td>1</td>\n",
              "      <td>-9,70020602</td>\n",
              "      <td>-54,87588757</td>\n",
              "    </tr>\n",
              "  </tbody>\n",
              "</table>\n",
              "</div>"
            ],
            "text/plain": [
              "         id   ano  mes data_inversa  uf   br     km          municipio  \\\n",
              "0  496519.0  2023    1   2023-01-01  ES  101    114          SOORETAMA   \n",
              "1  496543.0  2023    1   2023-01-01  SP  116  113,1            TAUBATE   \n",
              "2  496590.0  2023    1   2023-01-01  MT  163   1112  GUARANTA DO NORTE   \n",
              "\n",
              "                             causa_acidente classificacao_acidente  veiculos  \\\n",
              "0            Ausência de reação do condutor    Com Vítimas Feridas         1   \n",
              "1             Entrada inopinada do pedestre     Com Vítimas Fatais         2   \n",
              "2  Reação tardia ou ineficiente do condutor                    NaN         3   \n",
              "\n",
              "  condicao_metereologica     fase_dia dia_semana              tipo_acidente  \\\n",
              "0              Céu Claro  Plena Noite    domingo  Saída de leito carroçável   \n",
              "1              Céu Claro  Plena Noite    domingo  Atropelamento de Pedestre   \n",
              "2               Ignorado  Plena Noite    domingo                 Tombamento   \n",
              "\n",
              "  tipo_pista  mortos  feridos_graves      latitude     longitude  \n",
              "0    Simples       0               0  -19,09484877  -40,05095848  \n",
              "1      Dupla       1               0   -23,0445658  -45,58259814  \n",
              "2    Simples       0               1   -9,70020602  -54,87588757  "
            ]
          },
          "execution_count": 13,
          "metadata": {},
          "output_type": "execute_result"
        }
      ],
      "source": [
        "datatran.head(3)"
      ]
    },
    {
      "cell_type": "markdown",
      "metadata": {
        "id": "3MEbwld68BN0"
      },
      "source": [
        "### Tratando valores ausentes:"
      ]
    },
    {
      "cell_type": "code",
      "execution_count": 14,
      "metadata": {},
      "outputs": [
        {
          "data": {
            "text/html": [
              "<div>\n",
              "<style scoped>\n",
              "    .dataframe tbody tr th:only-of-type {\n",
              "        vertical-align: middle;\n",
              "    }\n",
              "\n",
              "    .dataframe tbody tr th {\n",
              "        vertical-align: top;\n",
              "    }\n",
              "\n",
              "    .dataframe thead th {\n",
              "        text-align: right;\n",
              "    }\n",
              "</style>\n",
              "<table border=\"1\" class=\"dataframe\">\n",
              "  <thead>\n",
              "    <tr style=\"text-align: right;\">\n",
              "      <th></th>\n",
              "      <th>id</th>\n",
              "      <th>ano</th>\n",
              "      <th>mes</th>\n",
              "      <th>data_inversa</th>\n",
              "      <th>uf</th>\n",
              "      <th>br</th>\n",
              "      <th>km</th>\n",
              "      <th>municipio</th>\n",
              "      <th>causa_acidente</th>\n",
              "      <th>classificacao_acidente</th>\n",
              "      <th>veiculos</th>\n",
              "      <th>condicao_metereologica</th>\n",
              "      <th>fase_dia</th>\n",
              "      <th>dia_semana</th>\n",
              "      <th>tipo_acidente</th>\n",
              "      <th>tipo_pista</th>\n",
              "      <th>mortos</th>\n",
              "      <th>feridos_graves</th>\n",
              "      <th>latitude</th>\n",
              "      <th>longitude</th>\n",
              "    </tr>\n",
              "  </thead>\n",
              "  <tbody>\n",
              "    <tr>\n",
              "      <th>2</th>\n",
              "      <td>496590.0</td>\n",
              "      <td>2023</td>\n",
              "      <td>1</td>\n",
              "      <td>2023-01-01</td>\n",
              "      <td>MT</td>\n",
              "      <td>163</td>\n",
              "      <td>1112</td>\n",
              "      <td>GUARANTA DO NORTE</td>\n",
              "      <td>Reação tardia ou ineficiente do condutor</td>\n",
              "      <td>NaN</td>\n",
              "      <td>3</td>\n",
              "      <td>Ignorado</td>\n",
              "      <td>Plena Noite</td>\n",
              "      <td>domingo</td>\n",
              "      <td>Tombamento</td>\n",
              "      <td>Simples</td>\n",
              "      <td>0</td>\n",
              "      <td>1</td>\n",
              "      <td>-9,70020602</td>\n",
              "      <td>-54,87588757</td>\n",
              "    </tr>\n",
              "    <tr>\n",
              "      <th>67766</th>\n",
              "      <td>571789.0</td>\n",
              "      <td>2024</td>\n",
              "      <td>1</td>\n",
              "      <td>2024-01-01</td>\n",
              "      <td>ES</td>\n",
              "      <td>101</td>\n",
              "      <td>38</td>\n",
              "      <td>CONCEICAO DA BARRA</td>\n",
              "      <td>Ultrapassagem Indevida</td>\n",
              "      <td>NaN</td>\n",
              "      <td>3</td>\n",
              "      <td>Céu Claro</td>\n",
              "      <td>Plena Noite</td>\n",
              "      <td>segunda-feira</td>\n",
              "      <td>Colisão lateral sentido oposto</td>\n",
              "      <td>Simples</td>\n",
              "      <td>0</td>\n",
              "      <td>1</td>\n",
              "      <td>-18.48261</td>\n",
              "      <td>-39.92379</td>\n",
              "    </tr>\n",
              "    <tr>\n",
              "      <th>146695</th>\n",
              "      <td>652555.0</td>\n",
              "      <td>2025</td>\n",
              "      <td>1</td>\n",
              "      <td>2025-01-01</td>\n",
              "      <td>RS</td>\n",
              "      <td>290</td>\n",
              "      <td>27,1</td>\n",
              "      <td>SANTO ANTONIO DA PATRULHA</td>\n",
              "      <td>Demais falhas mecânicas ou elétricas</td>\n",
              "      <td>NaN</td>\n",
              "      <td>2</td>\n",
              "      <td>Céu Claro</td>\n",
              "      <td>Pleno dia</td>\n",
              "      <td>quarta-feira</td>\n",
              "      <td>Saída de leito carroçável</td>\n",
              "      <td>Dupla</td>\n",
              "      <td>0</td>\n",
              "      <td>0</td>\n",
              "      <td>-29,880135</td>\n",
              "      <td>-50,514297</td>\n",
              "    </tr>\n",
              "  </tbody>\n",
              "</table>\n",
              "</div>"
            ],
            "text/plain": [
              "              id   ano  mes data_inversa  uf   br    km  \\\n",
              "2       496590.0  2023    1   2023-01-01  MT  163  1112   \n",
              "67766   571789.0  2024    1   2024-01-01  ES  101    38   \n",
              "146695  652555.0  2025    1   2025-01-01  RS  290  27,1   \n",
              "\n",
              "                        municipio                            causa_acidente  \\\n",
              "2               GUARANTA DO NORTE  Reação tardia ou ineficiente do condutor   \n",
              "67766          CONCEICAO DA BARRA                    Ultrapassagem Indevida   \n",
              "146695  SANTO ANTONIO DA PATRULHA      Demais falhas mecânicas ou elétricas   \n",
              "\n",
              "       classificacao_acidente  veiculos condicao_metereologica     fase_dia  \\\n",
              "2                         NaN         3               Ignorado  Plena Noite   \n",
              "67766                     NaN         3              Céu Claro  Plena Noite   \n",
              "146695                    NaN         2              Céu Claro    Pleno dia   \n",
              "\n",
              "           dia_semana                   tipo_acidente tipo_pista  mortos  \\\n",
              "2             domingo                      Tombamento    Simples       0   \n",
              "67766   segunda-feira  Colisão lateral sentido oposto    Simples       0   \n",
              "146695   quarta-feira       Saída de leito carroçável      Dupla       0   \n",
              "\n",
              "        feridos_graves     latitude     longitude  \n",
              "2                    1  -9,70020602  -54,87588757  \n",
              "67766                1    -18.48261     -39.92379  \n",
              "146695               0   -29,880135    -50,514297  "
            ]
          },
          "execution_count": 14,
          "metadata": {},
          "output_type": "execute_result"
        }
      ],
      "source": [
        "selection = datatran[datatran['classificacao_acidente'].isnull()]\n",
        "selection"
      ]
    },
    {
      "cell_type": "code",
      "execution_count": 15,
      "metadata": {},
      "outputs": [
        {
          "data": {
            "text/plain": [
              "array(['Com Vítimas Feridas', 'Com Vítimas Fatais', nan, 'Sem Vítimas'],\n",
              "      dtype=object)"
            ]
          },
          "execution_count": 15,
          "metadata": {},
          "output_type": "execute_result"
        }
      ],
      "source": [
        "datatran['classificacao_acidente'].unique()"
      ]
    },
    {
      "cell_type": "code",
      "execution_count": 7,
      "metadata": {},
      "outputs": [],
      "source": [
        "datatran.loc[\n",
        "    (datatran['classificacao_acidente'].isnull()) & (datatran['mortos'] == 0) & (datatran['feridos_graves'] == 1),\n",
        "    'classificacao_acidente'\n",
        "] = \"Com Vítimas Feridas\"\n",
        "\n",
        "datatran.loc[\n",
        "    (datatran['classificacao_acidente'].isnull()) & (datatran['mortos'] == 0) & (datatran['feridos_graves'] == 0),\n",
        "    'classificacao_acidente'\n",
        "] = \"Sem Vítimas\""
      ]
    },
    {
      "cell_type": "code",
      "execution_count": 17,
      "metadata": {},
      "outputs": [
        {
          "data": {
            "text/plain": [
              "array(['Com Vítimas Feridas', 'Com Vítimas Fatais', 'Sem Vítimas'],\n",
              "      dtype=object)"
            ]
          },
          "execution_count": 17,
          "metadata": {},
          "output_type": "execute_result"
        }
      ],
      "source": [
        "datatran['classificacao_acidente'].unique()"
      ]
    },
    {
      "cell_type": "markdown",
      "metadata": {},
      "source": [
        "### Tratando valores ausentes:\n",
        ">- dropna somente nas colunas que são essenciais para o modelo"
      ]
    },
    {
      "cell_type": "code",
      "execution_count": 8,
      "metadata": {
        "colab": {
          "base_uri": "https://localhost:8080/",
          "height": 1000
        },
        "id": "OEsdt2wk8BiM",
        "outputId": "918cdaaa-5463-42d7-e447-965c8654a9c9"
      },
      "outputs": [],
      "source": [
        "#Remoção dos dados nulos\n",
        "datatran.dropna(subset=['br','km', 'data_inversa', 'id' ], inplace=True)"
      ]
    },
    {
      "cell_type": "code",
      "execution_count": 19,
      "metadata": {},
      "outputs": [
        {
          "data": {
            "text/plain": [
              "id                        0\n",
              "ano                       0\n",
              "mes                       0\n",
              "data_inversa              0\n",
              "uf                        0\n",
              "br                        0\n",
              "km                        0\n",
              "municipio                 0\n",
              "causa_acidente            0\n",
              "classificacao_acidente    0\n",
              "veiculos                  0\n",
              "condicao_metereologica    0\n",
              "fase_dia                  0\n",
              "dia_semana                0\n",
              "tipo_acidente             0\n",
              "tipo_pista                0\n",
              "mortos                    0\n",
              "feridos_graves            0\n",
              "latitude                  0\n",
              "longitude                 0\n",
              "dtype: int64"
            ]
          },
          "execution_count": 19,
          "metadata": {},
          "output_type": "execute_result"
        }
      ],
      "source": [
        "datatran.isnull().sum()"
      ]
    },
    {
      "cell_type": "code",
      "execution_count": 20,
      "metadata": {},
      "outputs": [
        {
          "data": {
            "text/plain": [
              "array(['ES', 'SP', 'MT', 'PR', 'MG', 'BA', 'RJ', 'RS', 'SC', 'PI', 'GO',\n",
              "       'PE', 'MS', 'MA', 'CE', 'AP', 'PB', 'SE', 'RO', 'PA', 'RN', 'TO',\n",
              "       'RR', 'DF', 'AL', 'AC', 'AM'], dtype=object)"
            ]
          },
          "execution_count": 20,
          "metadata": {},
          "output_type": "execute_result"
        }
      ],
      "source": [
        "datatran['uf'].unique()"
      ]
    },
    {
      "cell_type": "code",
      "execution_count": 21,
      "metadata": {},
      "outputs": [
        {
          "data": {
            "image/png": "[encoded data removed]",
            "text/plain": [
              "<Figure size 2000x500 with 1 Axes>"
            ]
          },
          "metadata": {},
          "output_type": "display_data"
        },
        {
          "data": {
            "image/png": "[encoded data removed]",
            "text/plain": [
              "<Figure size 2000x500 with 1 Axes>"
            ]
          },
          "metadata": {},
          "output_type": "display_data"
        },
        {
          "data": {
            "image/png": "[encoded data removed]",
            "text/plain": [
              "<Figure size 2000x500 with 1 Axes>"
            ]
          },
          "metadata": {},
          "output_type": "display_data"
        }
      ],
      "source": [
        "df_top = df.groupby(['ano', 'uf']).size().reset_index(name='QuantidadeAcidentesUF')\n",
        "\n",
        "anos = df_top['ano'].unique()\n",
        "\n",
        "for ano in anos:\n",
        "    df_ano = df_top[df_top['ano'] == ano].sort_values(by='QuantidadeAcidentesUF', ascending=False).head(10)  # Top 10 UFs\n",
        "    \n",
        "    plt.figure(figsize=(20, 5))\n",
        "    plt.bar(df_ano['uf'], df_ano['QuantidadeAcidentesUF'], color='red', edgecolor='black')\n",
        "    plt.title(f'Top 10 Estados com Mais Acidentes - {ano}', fontsize=14)\n",
        "    plt.xlabel('UF', fontsize=10)\n",
        "    plt.ylabel('Quantidade de Acidentes', fontsize=12)\n",
        "    \n",
        "    # Adicionar valores sobre as barras\n",
        "    for i, valor in enumerate(df_ano['QuantidadeAcidentesUF']):\n",
        "        plt.text(i, valor + 0.1, str(valor), ha='center', va='bottom', fontsize=10, color='black')\n",
        "    \n",
        "    plt.xticks(rotation=90)\n",
        "    plt.tight_layout()\n",
        "    plt.show()"
      ]
    },
    {
      "cell_type": "markdown",
      "metadata": {
        "id": "vW22352itqBt"
      },
      "source": [
        "Inspecionando o atributo \"classificação_acidente\":"
      ]
    },
    {
      "cell_type": "code",
      "execution_count": 22,
      "metadata": {
        "colab": {
          "base_uri": "https://localhost:8080/"
        },
        "id": "0IwvrOCwtzpm",
        "outputId": "cebeb78b-65a0-4e9e-bbe0-7589b5ee0278"
      },
      "outputs": [
        {
          "data": {
            "text/plain": [
              "array(['Com Vítimas Feridas', 'Com Vítimas Fatais', 'Sem Vítimas'],\n",
              "      dtype=object)"
            ]
          },
          "execution_count": 22,
          "metadata": {},
          "output_type": "execute_result"
        }
      ],
      "source": [
        "datatran['classificacao_acidente'].unique()"
      ]
    },
    {
      "cell_type": "markdown",
      "metadata": {
        "id": "1yMIYN4at4ws"
      },
      "source": [
        "### Identificando Rodovia perigosa ou não com base nos mortos e\tferidos_graves\t"
      ]
    },
    {
      "cell_type": "code",
      "execution_count": 9,
      "metadata": {},
      "outputs": [],
      "source": [
        "datatran['status'] = np.where((df['mortos'] > 0) | (df['feridos_graves'] > 0), 'Perigosa', 'Segura')\n"
      ]
    },
    {
      "cell_type": "code",
      "execution_count": 24,
      "metadata": {
        "colab": {
          "base_uri": "https://localhost:8080/"
        },
        "id": "OmbDylMGu9pN",
        "outputId": "4121bd8e-5d79-4753-b47c-5f1309ffa226"
      },
      "outputs": [
        {
          "data": {
            "text/plain": [
              "Segura      117414\n",
              "Perigosa     46007\n",
              "Name: status, dtype: int64"
            ]
          },
          "execution_count": 24,
          "metadata": {},
          "output_type": "execute_result"
        }
      ],
      "source": [
        "datatran['status'].value_counts()"
      ]
    },
    {
      "cell_type": "code",
      "execution_count": 25,
      "metadata": {},
      "outputs": [
        {
          "data": {
            "image/png": "[encoded data removed]",
            "text/plain": [
              "<Figure size 2000x500 with 1 Axes>"
            ]
          },
          "metadata": {},
          "output_type": "display_data"
        },
        {
          "data": {
            "image/png": "[encoded data removed]",
            "text/plain": [
              "<Figure size 2000x500 with 1 Axes>"
            ]
          },
          "metadata": {},
          "output_type": "display_data"
        },
        {
          "data": {
            "image/png": "[encoded data removed]",
            "text/plain": [
              "<Figure size 2000x500 with 1 Axes>"
            ]
          },
          "metadata": {},
          "output_type": "display_data"
        }
      ],
      "source": [
        "# Contar quantidade de acidentes por status, ano e UF\n",
        "df_top = datatran.groupby(['ano', 'uf', 'status']).size().reset_index(name='StatusAcidentes')\n",
        "\n",
        "# Criar gráficos para cada ano\n",
        "anos = df_top['ano'].unique()\n",
        "\n",
        "for ano in anos:\n",
        "    df_ano = df_top[df_top['ano'] == ano]\n",
        "    \n",
        "    # Reestruturar os dados para garantir que todas as categorias sejam exibidas corretamente\n",
        "    df_pivot = df_ano.pivot(index='uf', columns='status', values='StatusAcidentes').fillna(0)\n",
        "\n",
        "    # Criar gráfico de barras empilhadas\n",
        "    df_pivot.plot(kind='bar', stacked=True, figsize=(20, 5), color={'Perigosa': 'red', 'Segura': 'blue'})\n",
        "    \n",
        "    plt.title(f'Status dos Acidentes por UF - {ano}', fontsize=14)\n",
        "    plt.xlabel('UF', fontsize=10)\n",
        "    plt.ylabel('Quantidade de Acidentes', fontsize=12)\n",
        "    plt.legend(title=\"Status\")\n",
        "    plt.xticks(rotation=90)\n",
        "    plt.tight_layout()\n",
        "    plt.show()"
      ]
    },
    {
      "cell_type": "markdown",
      "metadata": {
        "id": "d6VpCSsww9cS"
      },
      "source": [
        "Inspeção do dado"
      ]
    },
    {
      "cell_type": "code",
      "execution_count": 26,
      "metadata": {
        "colab": {
          "base_uri": "https://localhost:8080/"
        },
        "id": "HYQ54m9QxedL",
        "outputId": "bcefa729-1565-4731-bb05-e3f79fc7f93f"
      },
      "outputs": [
        {
          "data": {
            "text/plain": [
              "array(['domingo', 'segunda-feira', 'terça-feira', 'quarta-feira',\n",
              "       'quinta-feira', 'sexta-feira', 'sábado'], dtype=object)"
            ]
          },
          "execution_count": 26,
          "metadata": {},
          "output_type": "execute_result"
        }
      ],
      "source": [
        "datatran['dia_semana'].unique()"
      ]
    },
    {
      "cell_type": "code",
      "execution_count": 27,
      "metadata": {
        "colab": {
          "base_uri": "https://localhost:8080/"
        },
        "id": "eA3RpZ2nx0Qi",
        "outputId": "f48d5252-9e28-4357-b195-d12027892955"
      },
      "outputs": [
        {
          "data": {
            "text/plain": [
              "array(['SOORETAMA', 'TAUBATE', 'GUARANTA DO NORTE', ...,\n",
              "       'SANTO AMARO DO MARANHAO', 'BARRA DOS COQUEIROS', 'BONITO'],\n",
              "      dtype=object)"
            ]
          },
          "execution_count": 27,
          "metadata": {},
          "output_type": "execute_result"
        }
      ],
      "source": [
        "datatran['municipio'].unique()"
      ]
    },
    {
      "cell_type": "code",
      "execution_count": 28,
      "metadata": {
        "colab": {
          "base_uri": "https://localhost:8080/"
        },
        "id": "YV1vWcuGyG2G",
        "outputId": "ec656a6a-3947-4cdc-ca9a-95d0957fa271"
      },
      "outputs": [
        {
          "data": {
            "text/plain": [
              "array(['Plena Noite', 'Pleno dia', 'Anoitecer', 'Amanhecer'], dtype=object)"
            ]
          },
          "execution_count": 28,
          "metadata": {},
          "output_type": "execute_result"
        }
      ],
      "source": [
        "datatran['fase_dia'].unique()"
      ]
    },
    {
      "cell_type": "code",
      "execution_count": 29,
      "metadata": {},
      "outputs": [
        {
          "data": {
            "text/plain": [
              "array(['Ausência de reação do condutor', 'Entrada inopinada do pedestre',\n",
              "       'Reação tardia ou ineficiente do condutor',\n",
              "       'Velocidade Incompatível', 'Acumulo de água sobre o pavimento',\n",
              "       'Condutor Dormindo', 'Desrespeitar a preferência no cruzamento',\n",
              "       'Demais falhas mecânicas ou elétricas', 'Transitar na contramão',\n",
              "       'Acessar a via sem observar a presença dos outros veículos',\n",
              "       'Manobra de mudança de faixa',\n",
              "       'Avarias e/ou desgaste excessivo no pneu', 'Pista Escorregadia',\n",
              "       'Condutor deixou de manter distância do veículo da frente',\n",
              "       'Trafegar com motocicleta (ou similar) entre as faixas',\n",
              "       'Pista esburacada', 'Pedestre andava na pista',\n",
              "       'Acumulo de óleo sobre o pavimento',\n",
              "       'Carga excessiva e/ou mal acondicionada',\n",
              "       'Condutor desrespeitou a iluminação vermelha do semáforo', 'Chuva',\n",
              "       'Mal súbito do condutor', 'Curva acentuada', 'Obstrução na via',\n",
              "       'Ultrapassagem Indevida', 'Afundamento ou ondulação no pavimento',\n",
              "       'Frear bruscamente', 'Problema com o freio',\n",
              "       'Demais falhas na via', 'Animais na Pista',\n",
              "       'Problema na suspensão', 'Ingestão de álcool pelo condutor',\n",
              "       'Conversão proibida', 'Pedestre cruzava a pista fora da faixa',\n",
              "       'Restrição de visibilidade em curvas horizontais',\n",
              "       'Acostamento em desnível',\n",
              "       'Falta de elemento de contenção que evite a saída do leito carroçável',\n",
              "       'Estacionar ou parar em local proibido', 'Ausência de sinalização',\n",
              "       'Obras na pista', 'Acesso irregular', 'Desvio temporário',\n",
              "       'Ingestão de álcool e/ou substâncias psicoativas pelo pedestre',\n",
              "       'Ingestão de substâncias psicoativas pelo condutor',\n",
              "       'Retorno proibido', 'Condutor usando celular', 'Neblina',\n",
              "       'Falta de acostamento', 'Redutor de velocidade em desacordo',\n",
              "       'Transitar na calçada',\n",
              "       'Acumulo de areia ou detritos sobre o pavimento',\n",
              "       'Modificação proibida', 'Sinalização mal posicionada',\n",
              "       'Pista em desnível', 'Objeto estático sobre o leito carroçável',\n",
              "       'Iluminação deficiente',\n",
              "       'Ingestão de álcool ou de substâncias psicoativas pelo pedestre',\n",
              "       'Deficiência do Sistema de Iluminação/Sinalização',\n",
              "       'Demais Fenômenos da natureza', 'Declive acentuado',\n",
              "       'Obstrução Via tentativa Assalto',\n",
              "       'Deixar de acionar o farol da motocicleta (ou similar)', 'Fumaça',\n",
              "       'Faixas de trânsito com largura insuficiente',\n",
              "       'Sinalização encoberta', 'Transitar no Acostamento',\n",
              "       'Restrição de visibilidade em curvas verticais',\n",
              "       'Área urbana sem a presença de local apropriado para a travessia de pedestres',\n",
              "       'Suicídio (presumido)', 'Transtornos Mentais (exceto suicidio)',\n",
              "       'Sistema de drenagem ineficiente', 'Participar de racha',\n",
              "       'Faróis desregulados',\n",
              "       'Pedestre - Ingestão de álcool/ substâncias psicoativas',\n",
              "       'Semáforo com defeito'], dtype=object)"
            ]
          },
          "execution_count": 29,
          "metadata": {},
          "output_type": "execute_result"
        }
      ],
      "source": [
        "datatran['causa_acidente'].unique()"
      ]
    },
    {
      "cell_type": "code",
      "execution_count": 30,
      "metadata": {
        "colab": {
          "base_uri": "https://localhost:8080/"
        },
        "id": "3jHyIqKDzcTZ",
        "outputId": "81e7cc05-4a9d-4725-f539-95431809cf2a"
      },
      "outputs": [
        {
          "data": {
            "text/plain": [
              "array(['Céu Claro', 'Ignorado', 'Sol', 'Chuva', 'Nublado',\n",
              "       'Garoa/Chuvisco', 'Nevoeiro/Neblina', 'Vento', 'Granizo', 'Neve'],\n",
              "      dtype=object)"
            ]
          },
          "execution_count": 30,
          "metadata": {},
          "output_type": "execute_result"
        }
      ],
      "source": [
        "datatran['condicao_metereologica'].unique()"
      ]
    },
    {
      "cell_type": "code",
      "execution_count": 31,
      "metadata": {
        "colab": {
          "base_uri": "https://localhost:8080/"
        },
        "id": "nms7mzX70lMb",
        "outputId": "2dcf0aa6-31d9-4555-c90b-60cda0f74466"
      },
      "outputs": [
        {
          "data": {
            "text/plain": [
              "array(['Plena Noite', 'Pleno dia', 'Anoitecer', 'Amanhecer'], dtype=object)"
            ]
          },
          "execution_count": 31,
          "metadata": {},
          "output_type": "execute_result"
        }
      ],
      "source": [
        "aux = datatran.query(\"condicao_metereologica == 'Céu Claro'\")\n",
        "aux['fase_dia'].unique()"
      ]
    },
    {
      "cell_type": "markdown",
      "metadata": {
        "id": "WmE7yZsvzmPZ"
      },
      "source": [
        "### Tratanto \"condicao_metereologica\" = \"Ignorado\"\n",
        ">- assumindo que não foi importante registrar a condição metereológica, atribuiremos \"Céu Claro\" ( no contexto real, certificar com o dono do dado qual o tratamento adequado)"
      ]
    },
    {
      "cell_type": "code",
      "execution_count": 10,
      "metadata": {
        "colab": {
          "base_uri": "https://localhost:8080/"
        },
        "id": "ilpkIZn71nQa",
        "outputId": "7064e0dd-e316-4d3a-8cd1-8d46002ed4e4"
      },
      "outputs": [
        {
          "data": {
            "text/plain": [
              "array(['Céu Claro', 'Sol', 'Chuva', 'Nublado', 'Garoa/Chuvisco',\n",
              "       'Nevoeiro/Neblina', 'Vento', 'Granizo', 'Neve'], dtype=object)"
            ]
          },
          "execution_count": 10,
          "metadata": {},
          "output_type": "execute_result"
        }
      ],
      "source": [
        "datatran['condicao_metereologica'].replace('Ignorado', 'Céu Claro', inplace=True)\n",
        "datatran['condicao_metereologica'].unique()"
      ]
    },
    {
      "cell_type": "code",
      "execution_count": 33,
      "metadata": {
        "colab": {
          "base_uri": "https://localhost:8080/"
        },
        "id": "UwpCEF8N2CgH",
        "outputId": "dfdd1040-2823-467b-9006-a1dfe61e7075"
      },
      "outputs": [
        {
          "data": {
            "text/plain": [
              "array(['Simples', 'Dupla', 'Múltipla'], dtype=object)"
            ]
          },
          "execution_count": 33,
          "metadata": {},
          "output_type": "execute_result"
        }
      ],
      "source": [
        "datatran['tipo_pista'].unique()"
      ]
    },
    {
      "cell_type": "markdown",
      "metadata": {
        "id": "V2WOltDS3Wj-"
      },
      "source": [
        "#### Analisando se data era ou não um feriado nacional pois isso pode ser um fator determinante para aumento de fluxo de veiculos e acidentes.\n"
      ]
    },
    {
      "cell_type": "code",
      "execution_count": 11,
      "metadata": {
        "colab": {
          "base_uri": "https://localhost:8080/"
        },
        "id": "XgPeKwO44Dkj",
        "outputId": "c604111b-8200-4bf8-d730-e24d6ee80a5a"
      },
      "outputs": [
        {
          "data": {
            "text/plain": [
              "array(['y', 'n'], dtype=object)"
            ]
          },
          "execution_count": 11,
          "metadata": {},
          "output_type": "execute_result"
        }
      ],
      "source": [
        "datatran.insert(2, 'feriado', '')\n",
        "feriado = []\n",
        "for i in holidays.Brazil()['2022-01-01':'2025-12-31']:\n",
        "    feriado.append(i)\n",
        "datatran['feriado'] = datatran['data_inversa'].isin(feriado)\n",
        "datatran['feriado'].replace(True, 'y', inplace=True)\n",
        "datatran['feriado'].replace(False, 'n', inplace=True)\n",
        "datatran['feriado'].unique()"
      ]
    },
    {
      "cell_type": "code",
      "execution_count": 35,
      "metadata": {
        "colab": {
          "base_uri": "https://localhost:8080/",
          "height": 206
        },
        "id": "lfRYoFrF6LQi",
        "outputId": "e0c675b5-3acc-42ce-80ca-d1c31b5da373"
      },
      "outputs": [
        {
          "data": {
            "text/html": [
              "<div>\n",
              "<style scoped>\n",
              "    .dataframe tbody tr th:only-of-type {\n",
              "        vertical-align: middle;\n",
              "    }\n",
              "\n",
              "    .dataframe tbody tr th {\n",
              "        vertical-align: top;\n",
              "    }\n",
              "\n",
              "    .dataframe thead th {\n",
              "        text-align: right;\n",
              "    }\n",
              "</style>\n",
              "<table border=\"1\" class=\"dataframe\">\n",
              "  <thead>\n",
              "    <tr style=\"text-align: right;\">\n",
              "      <th></th>\n",
              "      <th>id</th>\n",
              "      <th>ano</th>\n",
              "      <th>feriado</th>\n",
              "      <th>mes</th>\n",
              "      <th>data_inversa</th>\n",
              "      <th>uf</th>\n",
              "      <th>br</th>\n",
              "      <th>km</th>\n",
              "      <th>municipio</th>\n",
              "      <th>causa_acidente</th>\n",
              "      <th>classificacao_acidente</th>\n",
              "      <th>veiculos</th>\n",
              "      <th>condicao_metereologica</th>\n",
              "      <th>fase_dia</th>\n",
              "      <th>dia_semana</th>\n",
              "      <th>tipo_acidente</th>\n",
              "      <th>tipo_pista</th>\n",
              "      <th>mortos</th>\n",
              "      <th>feridos_graves</th>\n",
              "      <th>latitude</th>\n",
              "      <th>longitude</th>\n",
              "      <th>status</th>\n",
              "    </tr>\n",
              "  </thead>\n",
              "  <tbody>\n",
              "    <tr>\n",
              "      <th>0</th>\n",
              "      <td>496519.0</td>\n",
              "      <td>2023</td>\n",
              "      <td>y</td>\n",
              "      <td>1</td>\n",
              "      <td>2023-01-01</td>\n",
              "      <td>ES</td>\n",
              "      <td>101</td>\n",
              "      <td>114</td>\n",
              "      <td>SOORETAMA</td>\n",
              "      <td>Ausência de reação do condutor</td>\n",
              "      <td>Com Vítimas Feridas</td>\n",
              "      <td>1</td>\n",
              "      <td>Céu Claro</td>\n",
              "      <td>Plena Noite</td>\n",
              "      <td>domingo</td>\n",
              "      <td>Saída de leito carroçável</td>\n",
              "      <td>Simples</td>\n",
              "      <td>0</td>\n",
              "      <td>0</td>\n",
              "      <td>-19,09484877</td>\n",
              "      <td>-40,05095848</td>\n",
              "      <td>Segura</td>\n",
              "    </tr>\n",
              "    <tr>\n",
              "      <th>1</th>\n",
              "      <td>496543.0</td>\n",
              "      <td>2023</td>\n",
              "      <td>y</td>\n",
              "      <td>1</td>\n",
              "      <td>2023-01-01</td>\n",
              "      <td>SP</td>\n",
              "      <td>116</td>\n",
              "      <td>113,1</td>\n",
              "      <td>TAUBATE</td>\n",
              "      <td>Entrada inopinada do pedestre</td>\n",
              "      <td>Com Vítimas Fatais</td>\n",
              "      <td>2</td>\n",
              "      <td>Céu Claro</td>\n",
              "      <td>Plena Noite</td>\n",
              "      <td>domingo</td>\n",
              "      <td>Atropelamento de Pedestre</td>\n",
              "      <td>Dupla</td>\n",
              "      <td>1</td>\n",
              "      <td>0</td>\n",
              "      <td>-23,0445658</td>\n",
              "      <td>-45,58259814</td>\n",
              "      <td>Perigosa</td>\n",
              "    </tr>\n",
              "    <tr>\n",
              "      <th>2</th>\n",
              "      <td>496590.0</td>\n",
              "      <td>2023</td>\n",
              "      <td>y</td>\n",
              "      <td>1</td>\n",
              "      <td>2023-01-01</td>\n",
              "      <td>MT</td>\n",
              "      <td>163</td>\n",
              "      <td>1112</td>\n",
              "      <td>GUARANTA DO NORTE</td>\n",
              "      <td>Reação tardia ou ineficiente do condutor</td>\n",
              "      <td>Com Vítimas Feridas</td>\n",
              "      <td>3</td>\n",
              "      <td>Céu Claro</td>\n",
              "      <td>Plena Noite</td>\n",
              "      <td>domingo</td>\n",
              "      <td>Tombamento</td>\n",
              "      <td>Simples</td>\n",
              "      <td>0</td>\n",
              "      <td>1</td>\n",
              "      <td>-9,70020602</td>\n",
              "      <td>-54,87588757</td>\n",
              "      <td>Perigosa</td>\n",
              "    </tr>\n",
              "    <tr>\n",
              "      <th>3</th>\n",
              "      <td>496610.0</td>\n",
              "      <td>2023</td>\n",
              "      <td>y</td>\n",
              "      <td>1</td>\n",
              "      <td>2023-01-01</td>\n",
              "      <td>PR</td>\n",
              "      <td>376</td>\n",
              "      <td>314,8</td>\n",
              "      <td>ORTIGUEIRA</td>\n",
              "      <td>Velocidade Incompatível</td>\n",
              "      <td>Sem Vítimas</td>\n",
              "      <td>3</td>\n",
              "      <td>Sol</td>\n",
              "      <td>Pleno dia</td>\n",
              "      <td>domingo</td>\n",
              "      <td>Tombamento</td>\n",
              "      <td>Dupla</td>\n",
              "      <td>0</td>\n",
              "      <td>0</td>\n",
              "      <td>-23,985512</td>\n",
              "      <td>-51,083555</td>\n",
              "      <td>Segura</td>\n",
              "    </tr>\n",
              "    <tr>\n",
              "      <th>4</th>\n",
              "      <td>496659.0</td>\n",
              "      <td>2023</td>\n",
              "      <td>y</td>\n",
              "      <td>1</td>\n",
              "      <td>2023-01-01</td>\n",
              "      <td>MG</td>\n",
              "      <td>116</td>\n",
              "      <td>569,4</td>\n",
              "      <td>MANHUACU</td>\n",
              "      <td>Acumulo de água sobre o pavimento</td>\n",
              "      <td>Com Vítimas Feridas</td>\n",
              "      <td>3</td>\n",
              "      <td>Chuva</td>\n",
              "      <td>Pleno dia</td>\n",
              "      <td>domingo</td>\n",
              "      <td>Colisão frontal</td>\n",
              "      <td>Simples</td>\n",
              "      <td>0</td>\n",
              "      <td>2</td>\n",
              "      <td>-20,10007457</td>\n",
              "      <td>-42,17884091</td>\n",
              "      <td>Perigosa</td>\n",
              "    </tr>\n",
              "  </tbody>\n",
              "</table>\n",
              "</div>"
            ],
            "text/plain": [
              "         id   ano feriado  mes data_inversa  uf   br     km  \\\n",
              "0  496519.0  2023       y    1   2023-01-01  ES  101    114   \n",
              "1  496543.0  2023       y    1   2023-01-01  SP  116  113,1   \n",
              "2  496590.0  2023       y    1   2023-01-01  MT  163   1112   \n",
              "3  496610.0  2023       y    1   2023-01-01  PR  376  314,8   \n",
              "4  496659.0  2023       y    1   2023-01-01  MG  116  569,4   \n",
              "\n",
              "           municipio                            causa_acidente  \\\n",
              "0          SOORETAMA            Ausência de reação do condutor   \n",
              "1            TAUBATE             Entrada inopinada do pedestre   \n",
              "2  GUARANTA DO NORTE  Reação tardia ou ineficiente do condutor   \n",
              "3         ORTIGUEIRA                   Velocidade Incompatível   \n",
              "4           MANHUACU         Acumulo de água sobre o pavimento   \n",
              "\n",
              "  classificacao_acidente  veiculos condicao_metereologica     fase_dia  \\\n",
              "0    Com Vítimas Feridas         1              Céu Claro  Plena Noite   \n",
              "1     Com Vítimas Fatais         2              Céu Claro  Plena Noite   \n",
              "2    Com Vítimas Feridas         3              Céu Claro  Plena Noite   \n",
              "3            Sem Vítimas         3                    Sol    Pleno dia   \n",
              "4    Com Vítimas Feridas         3                  Chuva    Pleno dia   \n",
              "\n",
              "  dia_semana              tipo_acidente tipo_pista  mortos  feridos_graves  \\\n",
              "0    domingo  Saída de leito carroçável    Simples       0               0   \n",
              "1    domingo  Atropelamento de Pedestre      Dupla       1               0   \n",
              "2    domingo                 Tombamento    Simples       0               1   \n",
              "3    domingo                 Tombamento      Dupla       0               0   \n",
              "4    domingo            Colisão frontal    Simples       0               2   \n",
              "\n",
              "       latitude     longitude    status  \n",
              "0  -19,09484877  -40,05095848    Segura  \n",
              "1   -23,0445658  -45,58259814  Perigosa  \n",
              "2   -9,70020602  -54,87588757  Perigosa  \n",
              "3    -23,985512    -51,083555    Segura  \n",
              "4  -20,10007457  -42,17884091  Perigosa  "
            ]
          },
          "execution_count": 35,
          "metadata": {},
          "output_type": "execute_result"
        }
      ],
      "source": [
        "datatran.head()"
      ]
    },
    {
      "cell_type": "markdown",
      "metadata": {},
      "source": [
        "### SALVANDO DF COMO VARIÁVEL GLOBAL PARA CONTINUAR O PROJETO NO OUTRO NOTEBOOK:\n",
        "\n",
        ">- 2 Machine Learning.ipynb\n",
        ">- 3 LDA para topic model.ipynb"
      ]
    },
    {
      "cell_type": "code",
      "execution_count": 12,
      "metadata": {},
      "outputs": [
        {
          "name": "stdout",
          "output_type": "stream",
          "text": [
            "Stored 'datatran' (DataFrame)\n"
          ]
        }
      ],
      "source": [
        "%store datatran"
      ]
    },
    {
      "cell_type": "code",
      "execution_count": null,
      "metadata": {},
      "outputs": [],
      "source": [
        "datatran.to_csv('./resultados/datatran.csv', index=False, sep=';')"
      ]
    }
  ],
  "metadata": {
    "colab": {
      "provenance": []
    },
    "kernelspec": {
      "display_name": "base",
      "language": "python",
      "name": "python3"
    },
    "language_info": {
      "codemirror_mode": {
        "name": "ipython",
        "version": 3
      },
      "file_extension": ".py",
      "mimetype": "text/x-python",
      "name": "python",
      "nbconvert_exporter": "python",
      "pygments_lexer": "ipython3",
      "version": "3.9.13"
    }
  },
  "nbformat": 4,
  "nbformat_minor": 0
}
